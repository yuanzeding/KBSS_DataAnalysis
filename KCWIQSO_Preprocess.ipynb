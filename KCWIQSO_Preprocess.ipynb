{
 "cells": [
  {
   "cell_type": "code",
   "execution_count": 14,
   "id": "537949fc-896c-4e5d-b2ce-812022504998",
   "metadata": {},
   "outputs": [],
   "source": [
    "%matplotlib inline\n",
    "import re\n",
    "import numpy as np\n",
    "import matplotlib.pyplot as plt\n",
    "import matplotlib.gridspec as gridspec\n",
    "import matplotlib as mpl\n",
    "from matplotlib.colors import SymLogNorm\n",
    "import scienceplots\n",
    "\n",
    "import astropy.units as u\n",
    "from astropy import constants\n",
    "from astropy.table import Table\n",
    "from astropy.coordinates import SkyCoord,FK5,ICRS\n",
    "from astropy.io import fits,ascii\n",
    "from astropy.wcs import WCS, utils as wcsutils\n",
    "from astropy.stats import sigma_clipped_stats\n",
    "import astropy.visualization as vis\n",
    "from astropy.modeling import models, fitting\n",
    "from astropy.nddata import StdDevUncertainty, Cutout2D\n",
    "from astropy.convolution import Gaussian2DKernel,Gaussian1DKernel\n",
    "from astropy.cosmology import Planck18\n",
    "from scipy.signal import find_peaks\n",
    "#from scipy.constants import c\n",
    "\n",
    "\n",
    "\n",
    "from photutils.aperture import EllipticalAperture, SkyEllipticalAperture\n",
    "\n",
    "import os, sys, glob, pdb, scipy\n",
    "\n",
    "from importlib import reload\n",
    "import pyregion as pyreg\n",
    "from spectral_cube import SpectralCube\n",
    "from reproject import reproject_interp\n",
    "import regions\n",
    "from regions.shapes.circle import CircleSkyRegion,CirclePixelRegion\n",
    "from regions import CircleAnnulusSkyRegion, CircleAnnulusPixelRegion, RectangleSkyRegion\n",
    "from regions import PixCoord\n",
    "sys.path.append('/disk/bifrost/yuanze/KBSS/MUSEQSO/scripts')\n",
    "import run_cubetools_MUSE as ctools\n",
    "import makeMask_MUSE as mmask\n",
    "reload(ctools)\n",
    "reload(mmask)\n",
    "sys.path.append('/disk/bifrost/yuanze/software/GalfitS/src')\n",
    "os.environ[\"CUDA_VISIBLE_DEVICES\"] = \"0\"\n",
    "os.environ[\"XLA_PYTHON_CLIENT_PREALLOCATE\"] = \"false\"\n",
    "import images as IM\n",
    "import sed_interp\n",
    "reload(IM)\n",
    "\n",
    "brightu = r\"Brightness $\\rm (10^{-4}~erg~s^{-1}~arcsec^{-2}~cm^{-2}~\\AA^{-1})$\"\n",
    "def imshow_astro(img, wcsinfo = None, figsize = (10,10), colorbar =True,\n",
    "               cblabel=\"\", cbfrac = 0.035, norm = None,\n",
    "               stretch = vis.LinearStretch(), cmap = \"hot\",\n",
    "               vrange = (None, None)):\n",
    "    \n",
    "    _, med, std = sigma_clipped_stats(img.data)\n",
    "    \n",
    "    fig =  plt.figure(figsize = figsize)\n",
    "    if wcsinfo:\n",
    "        ax = plt.subplot(projection = wcsinfo)\n",
    "    else:\n",
    "        ax = plt.subplot()\n",
    "    \n",
    "    vmin, vmax = vrange\n",
    "    \n",
    "    if not vmin:\n",
    "        vmin = med\n",
    "    if not vmax:\n",
    "        vmax = med + 10*std\n",
    "    if not norm:\n",
    "        norm = vis.ImageNormalize(vmin = vmin, vmax = vmax, stretch = stretch)\n",
    "    im = ax.imshow(img, norm = norm, cmap = cmap)\n",
    "    if colorbar:\n",
    "        cb = plt.colorbar(im, label = cblabel, fraction =cbfrac)\n",
    "    return fig, ax, im\n",
    "KBSSpath=\"/disk/bifrost/yuanze/KBSS\"\n",
    "qsos_bright = ascii.read(KBSSpath+\"/KCWI/qsos_bright_updated.list\",format=\"ipac\")\n",
    "\n",
    "#MUSEQSO= ascii.read(KBSSpath+\"/KCWI/MUSEQSO_machine_readable_updated2.list\",format=\"ipac\")\n",
    "#museqso_path = os.path.join(KBSSpath, \"MUSEQSO\")\n",
    "#votable_file = os.path.join(\"fixed_file.xml\")"
   ]
  },
  {
   "cell_type": "code",
   "execution_count": null,
   "id": "369b0ff6-35b1-4d0c-aeca-806d778883c8",
   "metadata": {},
   "outputs": [
    {
     "name": "stdout",
     "output_type": "stream",
     "text": [
      "0.77595234\n",
      "0.66500735\n",
      "correction factor: 1.1668327\n"
     ]
    },
    {
     "data": {
      "text/plain": [
       "<matplotlib.legend.Legend at 0x7fb307b68d30>"
      ]
     },
     "execution_count": 117,
     "metadata": {},
     "output_type": "execute_result"
    }
   ],
   "source": [
    "wave=np.arange(3500,6500)\n",
    "zlow=2.65\n",
    "zhigh=3.15\n",
    "lowz_igm=sed_interp.igm_transmission(wave,zlow)\n",
    "highz_igm=sed_interp.igm_transmission(wave,zhigh)\n",
    "plt.plot(wave/(zlow+1),lowz_igm,label=\"lowz\")\n",
    "plt.plot(wave/(zhigh+1),highz_igm,label=\"highz\")\n",
    "lowzlyaind=np.argmin(np.abs(wave/(zlow+1)-1215.67))\n",
    "highzlyaind=np.argmin(np.abs(wave/(zhigh+1)-1215.67))\n",
    "print(lowz_igm[lowzlyaind])\n",
    "print(highz_igm[highzlyaind])\n",
    "print(\"correction factor:\",lowz_igm[lowzlyaind]/highz_igm[highzlyaind])\n",
    "plt.axvline(1215.67,lw=1,ls=\"--\")\n",
    "plt.legend()"
   ]
  },
  {
   "cell_type": "code",
   "execution_count": 19,
   "id": "6cef8a40-1dbb-47e9-8dbe-2e0c0bb23aa5",
   "metadata": {},
   "outputs": [
    {
     "name": "stdout",
     "output_type": "stream",
     "text": [
      "   Name        aka     Field    RA    Dec     x     y   EBV  z_simbad z_sys   zerr  contam  u     g     r     i     z      MB    Comments         Mi         z_Lyaneb\n",
      "   unit        unit     unit   unit   unit   unit  unit unit   unit    unit   unit   unit  unit  unit  unit  unit  unit   unit     unit                              \n",
      "---------- ----------- ----- ------- ------ ----- ----- ---- -------- ------ ------ ------ ---- ----- ----- ----- ----- -------- -------- ------------------ --------\n",
      "Q1623-KP77 FBQS1625+26 Q1623 246.453 26.783 51.38 63.65 0.03    2.525 2.5353 0.0003  False 17.8 17.33 17.35 17.35 17.21 -25.4925       -- -29.28596666482499    2.534\n"
     ]
    }
   ],
   "source": [
    "\n",
    "#reload(mmask)\n",
    "from datetime import datetime# Making white-light cutout\n",
    "root_directory = KBSSpath\n",
    "condition=[qsos_bright['Field']!=\"Q1623\",qsos_bright['Field']!=\"Q0142\"]\n",
    "source_table = qsos_bright#[(qsos_bright['Field']!=\"Q1623\") & (qsos_bright['Field']!=\"Q0142\")]\n",
    "\n",
    "#print(\"Number of directories found:\",len(all_directories))\n",
    "#gc.set_debug(gc.DEBUG_LEAK)\n",
    "radius=6\n",
    "dovar=True\n",
    "for element in source_table[qsos_bright['Field']==\"Q1623\"]:\n",
    "    print(element)\n",
    "    qname = element[\"Name\"]\n",
    "    field = element[\"Field\"]\n",
    "    objname=\"qso\"\n",
    "    subdapath=KBSSpath+\"/\"+field+\"/\"+objname.upper()\n",
    "    #CubRunpath=KBSSpath+\"/CubEx_run/\"+field\n",
    "    fn=subdapath+\"/{}-{}_icubes_wcs.PSFSub.fits\".format(field.lower(),objname,int(radius/0.3))\n",
    "    hdu0=fits.open(fn)\n",
    "    hdr = hdu0[0].header\n",
    "    wc = (np.arange(hdr['NAXIS3']) - hdr['CRPIX3'] + 1) * hdr['CD3_3'] + hdr['CRVAL3']\n",
    "    #NSubfile = adp_prefix+\".PSFSub.fits\"\n",
    "    #zmask = np.loadtxt(subdir+\"/zmask.txt\").astype(np.int64)\n",
    "    zmask = mmask.determine_mask(wc,\"continuum\", element['z_sys'])\n",
    "    xpix = element[\"x\"]\n",
    "    ypix = element[\"y\"]\n",
    "    wimage = np.nansum(hdu0[0].data[zmask[0]:zmask[1],:],axis=0)\n",
    "    wimage[wimage==0] = np.nan\n",
    "    header = fits.Header()\n",
    "    header['DATE'] = datetime.now().strftime('%Y-%m-%dT%H:%M:%S')\n",
    "    header['CREATOR'] = 'Yuanze Ding'\n",
    "    header['COMMENT'] = 'White-light cutout from 3D data cube'\n",
    "    header['YSOURCE'] = ypix\n",
    "    header['XSOURCE'] = xpix\n",
    "    header['OBJECT'] = qname\n",
    "    # Extract WCS information from the original header\n",
    "    wcs_keys = ['CTYPE1', 'CTYPE2', 'CRVAL1', 'CRVAL2', 'CRPIX1', 'CRPIX2', 'CDELT1', 'CDELT2', 'CUNIT1', 'CUNIT2', 'CD1_1', 'CD1_2', 'CD2_1', 'CD2_2']\n",
    "    for key in wcs_keys:\n",
    "        if key in hdr:\n",
    "            header[key] = hdr[key]\n",
    "\n",
    "    hdu = fits.PrimaryHDU(wimage,header=header)\n",
    "    output_fn = subdapath+\"/{}-{}_icubes_wcs_{}.PSFSub.white.fits\".format(field.lower(),objname,int(radius/0.3))\n",
    "    hdulist = fits.HDUList([hdu])\n",
    "    hdulist.writeto(output_fn, overwrite=True)\n",
    "    if dovar:\n",
    "        fnvar=subdapath+\"/{}-{}_vcubes.fits\".format(field.lower(),objname)\n",
    "        hdu0_var=fits.open(fnvar)\n",
    "        wvar = np.nansum(hdu0_var[0].data[zmask[0]:zmask[1],:],axis=0)\n",
    "        wvar[wvar==0] = np.nan\n",
    "        output_fnvar = subdapath+\"/{}-{}_icubes_wcs.whitevar.fits\".format(field.lower(),objname)\n",
    "        hduvar = fits.PrimaryHDU(wvar,header=header)\n",
    "        hdulist = fits.HDUList([hduvar])\n",
    "        hdulist.writeto(output_fnvar, overwrite=True)\n",
    "#hdu2=fits.open(KBSSpath+\"/MUSEQSO/Q-0347-383/ADP.2016-06-02T13:21:57.103.fits\")"
   ]
  },
  {
   "cell_type": "code",
   "execution_count": 26,
   "id": "73d871f5-4be0-4f3d-8a1c-64bd90775b81",
   "metadata": {},
   "outputs": [
    {
     "name": "stdout",
     "output_type": "stream",
     "text": [
      "Number of directories found: 1\n",
      "Q1623-KP77\n",
      "246.453 26.783\n",
      "49.42 100.2299999999579\n"
     ]
    },
    {
     "name": "stderr",
     "output_type": "stream",
     "text": [
      "WARNING: Input data contains invalid values (NaNs or infs), which were automatically clipped. [astropy.stats.sigma_clipping]\n",
      "WARNING: Input data contains invalid values (NaNs or infs), which were automatically clipped. [astropy.stats.sigma_clipping]\n",
      "WARNING: Input data contains invalid values (NaNs or infs), which were automatically clipped. [astropy.stats.sigma_clipping]\n",
      "WARNING: Input data contains invalid values (NaNs or infs), which were automatically clipped. [astropy.stats.sigma_clipping]\n"
     ]
    },
    {
     "name": "stdout",
     "output_type": "stream",
     "text": [
      "sky level from vcube: 0.03205216116596351 ; from sigma clipping: 0.033742595 ; bkg level: 0.0027395869\n"
     ]
    }
   ],
   "source": [
    "import warnings\n",
    "from regions import Regions\n",
    "reload(ctools)\n",
    "root_directory = KBSSpath\n",
    "condition=[qsos_bright['Field']!=\"Q1623\",qsos_bright['Field']!=\"Q0142\"]\n",
    "#source_table = qsos_bright#[(qsos_bright['Field']!=\"Q1623\") & (qsos_bright['Field']!=\"Q0142\")]\n",
    "source_table=qsos_bright[qsos_bright['Field']==\"Q1623\"]\n",
    "print(\"Number of directories found:\",len(source_table))\n",
    "#gc.set_debug(gc.DEBUG_LEAK)\n",
    "radius=6\n",
    "cutr=20\n",
    "\n",
    "for element in source_table:\n",
    "    qname = element[\"Name\"]\n",
    "    field = element[\"Field\"]\n",
    "    print(qname)\n",
    "    \n",
    "    objname=\"qso\"\n",
    "    subdapath=KBSSpath+\"/\"+field+\"/\"+objname.upper()\n",
    "    CubRunpath=KBSSpath+\"/CubEx_run/\"+field\n",
    "    ra = element['RA']\n",
    "    dec = element['Dec']\n",
    "    sc= SkyCoord(ra,dec,unit=(u.deg,u.deg))\n",
    "   # qname=\"LBQS 2139-4434\"\n",
    "    fname=subdapath+\"/{}-{}_icubes_wcs_{}.PSFSub.white.fits\".format(field.lower(),objname,int(radius/0.3))\n",
    "    fnamevar=subdapath+\"/{}-{}_icubes_wcs.whitevar.fits\".format(field.lower(),objname,int(radius/0.3))\n",
    "    hduvar=fits.open(fnamevar)\n",
    "    var=hduvar[0].data\n",
    "    #var[var==0]=np.nan\n",
    "    mean_sky_var, _, _ = sigma_clipped_stats(var, sigma=2.0, maxiters=None)\n",
    "    img = IM.image(fname,hdu=0,unit=u.Jy)\n",
    "    xpix = element[\"x\"]\n",
    "    ypix = element[\"y\"]\n",
    "    wcs=WCS(img.data.header)\n",
    "    \n",
    "    \n",
    "    reg= ctools.read_regions(KBSSpath+f\"/AbsHosts_nLOS_reg/{field}_AbsHost-nLOS.reg\",pix_scale=wcs.pixel_scale_matrix[1,1]*3600)\n",
    "    artists=[]\n",
    "    metas=[]\n",
    "    for r in reg:\n",
    "        artists.append(r.to_pixel(wcs).as_artist())\n",
    "        meta=dict(r.meta)\n",
    "        meta[\"fontsize\"]=5\n",
    "        metas.append(meta)\n",
    "    center = [ypix,xpix]\n",
    "    imcut, cp = img.img_cut(sc.ra.value,sc.dec.value,cutr)\n",
    "    sky_mean, sky_median, sky_std = sigma_clipped_stats(imcut, sigma=3.0, maxiters=None)\n",
    "    print(\"sky level from vcube:\",np.sqrt(mean_sky_var),\"; from sigma clipping:\",sky_std,\"; bkg level:\",sky_mean)\n",
    "    img.sources_skycord_cut = [xpix,ypix]\n",
    "    #img.cut_mask_image = np.zeros_like(img.cut_sigma_image)\n",
    "    sdmask = ctools.create_circular_mask(img.data.shape, center, 7)\n",
    "    try:\n",
    "        with warnings.catch_warnings(record=True) as w:\n",
    "            warnings.simplefilter(\"always\")\n",
    "            img.cut_mask_image = img.generate_cutmask(4,nsigma=2,sky_level=np.sqrt(mean_sky_var),sdmask=sdmask,data = img.data.data,deblend=False,addgrow=1,nlevels=32,source_dia=5,contrast=0.001)\n",
    "    except:\n",
    "        for warning in w:\n",
    "            print(f\"Warning: {warning.message}\")\n",
    "        continue\n",
    "    ctools.maskplot(img.data.data,img.cut_mask_image,meta=metas,artist=artists,output=root_directory+\"/diagnostic/\"+qname+\"_maskmap.pdf\",center=center)\n",
    "    outname = subdapath+\"/{}-{}_icubes_wcs_{}.PSFSub.mask.fits\".format(field.lower(),objname,int(radius/0.3))\n",
    "    ctools.write_fits_cube(img.cut_mask_image.astype(np.int32),img.data.header,outname)\n",
    "    #NSubfile = adp_prefix+\".PSFSub.fits\"\n",
    "    #zmask = np.loadtxt(subdir+\"/zmask.txt\",dtype=int)"
   ]
  },
  {
   "cell_type": "code",
   "execution_count": 88,
   "id": "a0f4e5fb-4293-48be-8596-23fc5d66b52f",
   "metadata": {},
   "outputs": [
    {
     "data": {
      "text/plain": [
       "{'label': 'Q0100  2.721'}"
      ]
     },
     "execution_count": 88,
     "metadata": {},
     "output_type": "execute_result"
    }
   ],
   "source": []
  },
  {
   "cell_type": "code",
   "execution_count": 81,
   "id": "03e50ddd-8e66-4b88-885f-b90943f79432",
   "metadata": {},
   "outputs": [
    {
     "data": {
      "text/plain": [
       "(50.04648997238098, 49.072736870607734)"
      ]
     },
     "execution_count": 81,
     "metadata": {},
     "output_type": "execute_result"
    }
   ],
   "source": [
    "artists[0].center"
   ]
  },
  {
   "cell_type": "code",
   "execution_count": 67,
   "id": "411b8beb-70fb-476b-b741-b3338f2c89bc",
   "metadata": {},
   "outputs": [
    {
     "data": {
      "text/plain": [
       "{'label': 'Q0100  2.721'}"
      ]
     },
     "execution_count": 67,
     "metadata": {},
     "output_type": "execute_result"
    }
   ],
   "source": [
    "reg[0].meta"
   ]
  },
  {
   "cell_type": "code",
   "execution_count": 53,
   "id": "6d23489e-4d28-4f3d-a0b1-591f8b473be0",
   "metadata": {},
   "outputs": [
    {
     "name": "stdout",
     "output_type": "stream",
     "text": [
      "Region: CircleSkyRegion\n",
      "center: <SkyCoord (FK5: equinox=J2000.000): (ra, dec) in deg\n",
      "    (15.79699292, 13.27175306)>\n",
      "radius: 3.0 arcsec\n",
      "Region: CircleSkyRegion\n",
      "center: <SkyCoord (FK5: equinox=J2000.000): (ra, dec) in deg\n",
      "    (15.80051, 13.2711325)>\n",
      "radius: 5.0 arcsec\n",
      "Region: CircleSkyRegion\n",
      "center: <SkyCoord (FK5: equinox=J2000.000): (ra, dec) in deg\n",
      "    (15.80004083, 13.271705)>\n",
      "radius: 5.0 arcsec\n",
      "Region: CircleSkyRegion\n",
      "center: <SkyCoord (FK5: equinox=J2000.000): (ra, dec) in deg\n",
      "    (15.80209958, 13.27299472)>\n",
      "radius: 5.0 arcsec\n",
      "Region: CircleSkyRegion\n",
      "center: <SkyCoord (FK5: equinox=J2000.000): (ra, dec) in deg\n",
      "    (15.79884458, 13.27309694)>\n",
      "radius: 5.0 arcsec\n",
      "Region: CircleSkyRegion\n",
      "center: <SkyCoord (FK5: equinox=J2000.000): (ra, dec) in deg\n",
      "    (15.79855333, 13.27198778)>\n",
      "radius: 5.0 arcsec\n",
      "Region: CircleSkyRegion\n",
      "center: <SkyCoord (FK5: equinox=J2000.000): (ra, dec) in deg\n",
      "    (15.79724583, 13.27124722)>\n",
      "radius: 5.0 arcsec\n",
      "Region: CircleSkyRegion\n",
      "center: <SkyCoord (FK5: equinox=J2000.000): (ra, dec) in deg\n",
      "    (15.79917083, 13.27301667)>\n",
      "radius: 5.0 arcsec\n",
      "Region: CircleSkyRegion\n",
      "center: <SkyCoord (FK5: equinox=J2000.000): (ra, dec) in deg\n",
      "    (15.8017375, 13.2701)>\n",
      "radius: 5.0 arcsec\n",
      "Region: CircleSkyRegion\n",
      "center: <SkyCoord (FK5: equinox=J2000.000): (ra, dec) in deg\n",
      "    (15.79585208, 13.27302444)>\n",
      "radius: 5.0 arcsec\n",
      "Region: CircleSkyRegion\n",
      "center: <SkyCoord (FK5: equinox=J2000.000): (ra, dec) in deg\n",
      "    (15.79515667, 13.26979111)>\n",
      "radius: 5.0 arcsec\n",
      "Region: CircleSkyRegion\n",
      "center: <SkyCoord (FK5: equinox=J2000.000): (ra, dec) in deg\n",
      "    (15.79577292, 13.27126528)>\n",
      "radius: 5.0 arcsec\n",
      "Region: CircleSkyRegion\n",
      "center: <SkyCoord (FK5: equinox=J2000.000): (ra, dec) in deg\n",
      "    (15.79405833, 13.27201889)>\n",
      "radius: 5.0 arcsec\n",
      "Region: CircleSkyRegion\n",
      "center: <SkyCoord (FK5: equinox=J2000.000): (ra, dec) in deg\n",
      "    (15.7942975, 13.27261972)>\n",
      "radius: 5.0 arcsec\n",
      "Region: CircleSkyRegion\n",
      "center: <SkyCoord (FK5: equinox=J2000.000): (ra, dec) in deg\n",
      "    (15.79806375, 13.27083861)>\n",
      "radius: 5.0 arcsec\n",
      "Region: CircleSkyRegion\n",
      "center: <SkyCoord (FK5: equinox=J2000.000): (ra, dec) in deg\n",
      "    (15.79690167, 13.27251694)>\n",
      "radius: 5.0 arcsec\n"
     ]
    }
   ],
   "source": [
    "import re\n",
    "from astropy.coordinates import SkyCoord\n",
    "from regions import CircleSkyRegion, PixCoord\n",
    "from astropy import units as u\n",
    "\n",
    "# Read the region file\n",
    "file_path = KBSSpath+f\"/AbsHosts_nLOS_reg/{field}_AbsHost-nLOS.reg\"\n",
    "with open(file_path, 'r') as file:\n",
    "    lines = file.readlines()\n",
    "\n",
    "# Regex to extract information\n",
    "pattern = re.compile(r'fk5;circle\\((.*?),(.*?),(.*?)i\\) #color=(.*?)  width=2 text={(.*?)}')\n",
    "\n",
    "regions = []\n",
    "\n",
    "for line in lines:\n",
    "    match = pattern.match(line)\n",
    "    if match:\n",
    "        ra, dec, radius, color, text = match.groups()\n",
    "        coord = SkyCoord(ra, dec, unit=(u.hourangle, u.deg), frame='fk5')\n",
    "        radius = float(radius) * u.arcsec  # assuming the radius is in arcseconds\n",
    "        \n",
    "        # Create a CircleSkyRegion\n",
    "        region = CircleSkyRegion(center=coord, radius=radius)\n",
    "        regions.append(region)\n",
    "\n",
    "# Now `regions` contains all the parsed CircleSkyRegions\n",
    "# You can manipulate them or plot them using regions library\n",
    "\n",
    "# Example: Printing region details\n",
    "for region in regions:\n",
    "    print(region)"
   ]
  }
 ],
 "metadata": {
  "kernelspec": {
   "display_name": "Python (nmma)",
   "language": "python",
   "name": "nmma"
  },
  "language_info": {
   "codemirror_mode": {
    "name": "ipython",
    "version": 3
   },
   "file_extension": ".py",
   "mimetype": "text/x-python",
   "name": "python",
   "nbconvert_exporter": "python",
   "pygments_lexer": "ipython3",
   "version": "3.8.17"
  }
 },
 "nbformat": 4,
 "nbformat_minor": 5
}
