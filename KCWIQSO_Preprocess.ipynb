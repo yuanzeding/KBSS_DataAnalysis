{
 "cells": [
  {
   "cell_type": "code",
   "execution_count": 7,
   "id": "537949fc-896c-4e5d-b2ce-812022504998",
   "metadata": {},
   "outputs": [],
   "source": [
    "%matplotlib inline\n",
    "import re\n",
    "import numpy as np\n",
    "import matplotlib.pyplot as plt\n",
    "import matplotlib.gridspec as gridspec\n",
    "import matplotlib as mpl\n",
    "from matplotlib.colors import SymLogNorm\n",
    "import scienceplots\n",
    "\n",
    "import astropy.units as u\n",
    "from astropy import constants\n",
    "from astropy.table import Table\n",
    "from astropy.coordinates import SkyCoord,FK5,ICRS\n",
    "from astropy.io import fits,ascii\n",
    "from astropy.wcs import WCS, utils as wcsutils\n",
    "from astropy.stats import sigma_clipped_stats\n",
    "import astropy.visualization as vis\n",
    "from astropy.modeling import models, fitting\n",
    "from astropy.nddata import StdDevUncertainty, Cutout2D\n",
    "from astropy.convolution import Gaussian2DKernel,Gaussian1DKernel\n",
    "from astropy.cosmology import Planck18\n",
    "from scipy.signal import find_peaks\n",
    "#from scipy.constants import c\n",
    "\n",
    "\n",
    "\n",
    "from photutils.aperture import EllipticalAperture, SkyEllipticalAperture\n",
    "\n",
    "import os, sys, glob, pdb, scipy\n",
    "\n",
    "from importlib import reload\n",
    "import pyregion as pyreg\n",
    "from spectral_cube import SpectralCube\n",
    "from reproject import reproject_interp\n",
    "import regions\n",
    "from regions.shapes.circle import CircleSkyRegion,CirclePixelRegion\n",
    "from regions import CircleAnnulusSkyRegion, CircleAnnulusPixelRegion, RectangleSkyRegion\n",
    "from regions import PixCoord\n",
    "sys.path.append('/disk/bifrost/yuanze/KBSS/MUSEQSO')\n",
    "import run_cubetools_MUSE as ctools\n",
    "import makeMask_MUSE as mmask\n",
    "reload(ctools)\n",
    "reload(mmask)\n",
    "sys.path.append('/disk/bifrost/yuanze/software/GalfitS/src')\n",
    "os.environ[\"CUDA_VISIBLE_DEVICES\"] = \"0\"\n",
    "os.environ[\"XLA_PYTHON_CLIENT_PREALLOCATE\"] = \"false\"\n",
    "import images as IM\n",
    "reload(IM)\n",
    "\n",
    "brightu = r\"Brightness $\\rm (10^{-4}~erg~s^{-1}~arcsec^{-2}~cm^{-2}~\\AA^{-1})$\"\n",
    "def imshow_astro(img, wcsinfo = None, figsize = (10,10), colorbar =True,\n",
    "               cblabel=\"\", cbfrac = 0.035, norm = None,\n",
    "               stretch = vis.LinearStretch(), cmap = \"hot\",\n",
    "               vrange = (None, None)):\n",
    "    \n",
    "    _, med, std = sigma_clipped_stats(img.data)\n",
    "    \n",
    "    fig =  plt.figure(figsize = figsize)\n",
    "    if wcsinfo:\n",
    "        ax = plt.subplot(projection = wcsinfo)\n",
    "    else:\n",
    "        ax = plt.subplot()\n",
    "    \n",
    "    vmin, vmax = vrange\n",
    "    \n",
    "    if not vmin:\n",
    "        vmin = med\n",
    "    if not vmax:\n",
    "        vmax = med + 10*std\n",
    "    if not norm:\n",
    "        norm = vis.ImageNormalize(vmin = vmin, vmax = vmax, stretch = stretch)\n",
    "    im = ax.imshow(img, norm = norm, cmap = cmap)\n",
    "    if colorbar:\n",
    "        cb = plt.colorbar(im, label = cblabel, fraction =cbfrac)\n",
    "    return fig, ax, im\n",
    "KBSSpath=\"/disk/bifrost/yuanze/KBSS\"\n",
    "qsos_bright = ascii.read(KBSSpath+\"/KCWI/qsos_bright.kcwi\",format=\"ipac\")\n",
    "\n",
    "#MUSEQSO= ascii.read(KBSSpath+\"/KCWI/MUSEQSO_machine_readable_updated2.list\",format=\"ipac\")\n",
    "#museqso_path = os.path.join(KBSSpath, \"MUSEQSO\")\n",
    "#votable_file = os.path.join(\"fixed_file.xml\")"
   ]
  },
  {
   "cell_type": "code",
   "execution_count": 11,
   "id": "e537de65-fc08-4177-b123-aa42becaf886",
   "metadata": {},
   "outputs": [
    {
     "data": {
      "text/html": [
       "<div><i>Table length=16</i>\n",
       "<table id=\"table140608556647632\" class=\"table-striped table-bordered table-condensed\">\n",
       "<thead><tr><th>Name</th><th>Field</th><th>RA</th><th>Dec</th><th>x</th><th>y</th><th>EBV</th><th>z_simbad</th><th>z_sys</th><th>zerr</th><th>contam</th><th>u</th><th>g</th><th>r</th><th>i</th><th>z</th><th>MB</th><th>Comments</th></tr></thead>\n",
       "<thead><tr><th>unit</th><th>unit</th><th>unit</th><th>unit</th><th>unit</th><th>unit</th><th>unit</th><th>unit</th><th>unit</th><th>unit</th><th>unit</th><th>unit</th><th>unit</th><th>unit</th><th>unit</th><th>unit</th><th>unit</th><th>unit</th></tr></thead>\n",
       "<thead><tr><th>str11</th><th>str5</th><th>float64</th><th>float64</th><th>float64</th><th>float64</th><th>float64</th><th>float64</th><th>float64</th><th>float64</th><th>str5</th><th>float64</th><th>float64</th><th>float64</th><th>float64</th><th>float64</th><th>float64</th><th>str71</th></tr></thead>\n",
       "<tr><td>Q0100+13</td><td>Q0100</td><td>15.797</td><td>13.272</td><td>50.46</td><td>50.41</td><td>0.031</td><td>2.686</td><td>2.721</td><td>0.001</td><td>False</td><td>17.4</td><td>16.7</td><td>16.5</td><td>16.5</td><td>--</td><td>-26.4472</td><td>--</td></tr>\n",
       "<tr><td>HS0105+1619</td><td>Q0105</td><td>17.027</td><td>16.597</td><td>52.31</td><td>53.45</td><td>0.058</td><td>2.64</td><td>2.652</td><td>0.001</td><td>False</td><td>18.1</td><td>17.19</td><td>17.0</td><td>16.87</td><td>16.67</td><td>--</td><td>--</td></tr>\n",
       "<tr><td>Q0142-10</td><td>Q0142</td><td>26.319</td><td>-9.755</td><td>55.86</td><td>54.4</td><td>0.028</td><td>2.7312</td><td>2.743</td><td>0.001</td><td>True</td><td>17.54</td><td>16.85</td><td>16.73</td><td>16.64</td><td>16.6</td><td>-26.1957</td><td>lensed QSO</td></tr>\n",
       "<tr><td>Q0207-003</td><td>Q0207</td><td>32.461</td><td>-0.085</td><td>49.95</td><td>50.93</td><td>0.024</td><td>2.85</td><td>2.872</td><td>0.001</td><td>False</td><td>18.08</td><td>17.02</td><td>16.92</td><td>16.84</td><td>16.76</td><td>--</td><td>--</td></tr>\n",
       "<tr><td>Q0821+3107</td><td>Q0821</td><td>125.282</td><td>31.131</td><td>54.68</td><td>52.86</td><td>0.039</td><td>2.624</td><td>2.616</td><td>0.001</td><td>False</td><td>18.08</td><td>17.26</td><td>17.04</td><td>16.87</td><td>16.66</td><td>--</td><td>--</td></tr>\n",
       "<tr><td>Q1009+29</td><td>Q1009</td><td>152.982</td><td>29.695</td><td>48.79</td><td>48.47</td><td>0.023</td><td>2.62</td><td>2.652</td><td>0.001</td><td>False</td><td>16.73</td><td>16.16</td><td>16.09</td><td>16.02</td><td>15.89</td><td>-26.7954</td><td>--</td></tr>\n",
       "<tr><td>Q1217+490</td><td>Q1217</td><td>184.879</td><td>49.681</td><td>47.9</td><td>43.83</td><td>0.015</td><td>2.698</td><td>2.704</td><td>0.001</td><td>False</td><td>17.77</td><td>17.09</td><td>16.92</td><td>16.79</td><td>16.7</td><td>-25.9884</td><td>--</td></tr>\n",
       "<tr><td>Q1442+2931</td><td>Q1442</td><td>221.224</td><td>29.318</td><td>51.0</td><td>45.68</td><td>0.015</td><td>2.638</td><td>2.66</td><td>0.001</td><td>True</td><td>17.31</td><td>16.41</td><td>16.41</td><td>16.33</td><td>16.09</td><td>--</td><td>K=14.07,J=15.02</td></tr>\n",
       "<tr><td>Q1549+1919</td><td>Q1549</td><td>237.969</td><td>19.185</td><td>49.0</td><td>68.55</td><td>0.04</td><td>2.83</td><td>2.843</td><td>0.001</td><td>False</td><td>17.06</td><td>16.06</td><td>15.89</td><td>15.77</td><td>15.7</td><td>-27.0722</td><td>--</td></tr>\n",
       "<tr><td>HS1603+3820</td><td>Q1603</td><td>241.231</td><td>38.201</td><td>40.49</td><td>45.81</td><td>0.01</td><td>2.51</td><td>2.551</td><td>0.001</td><td>False</td><td>16.74</td><td>16.11</td><td>15.93</td><td>15.85</td><td>15.67</td><td>-27.0</td><td>--</td></tr>\n",
       "<tr><td>Q1623-KP77</td><td>Q1623</td><td>246.453</td><td>26.783</td><td>46.21</td><td>69.33</td><td>0.03</td><td>2.525</td><td>2.5353</td><td>0.0003</td><td>False</td><td>17.8</td><td>17.33</td><td>17.35</td><td>17.35</td><td>17.21</td><td>-25.4925</td><td>--</td></tr>\n",
       "<tr><td>Q1623-KP76</td><td>Q1623</td><td>246.45</td><td>26.742</td><td>41.17</td><td>52.57</td><td>0.03</td><td>2.467</td><td>2.4663</td><td>0.0003</td><td>False</td><td>19.12</td><td>18.54</td><td>18.55</td><td>18.55</td><td>18.31</td><td>-24.2627</td><td>--</td></tr>\n",
       "<tr><td>Q1623-KP78</td><td>Q1623</td><td>246.489</td><td>26.747</td><td>69.02</td><td>63.73</td><td>0.03</td><td>2.602</td><td>2.6148</td><td>0.0004</td><td>False</td><td>19.76</td><td>19.1</td><td>19.0</td><td>18.96</td><td>18.75</td><td>-23.8755</td><td>--</td></tr>\n",
       "<tr><td>HS1700+64</td><td>Q1700</td><td>255.252</td><td>64.203</td><td>47.81</td><td>50.38</td><td>0.022</td><td>2.736</td><td>2.751</td><td>0.001</td><td>True</td><td>16.82</td><td>16.08</td><td>15.98</td><td>15.89</td><td>15.82</td><td>-26.9486</td><td>--</td></tr>\n",
       "<tr><td>Q2206-199</td><td>Q2206</td><td>332.217</td><td>-19.733</td><td>51.73</td><td>54.07</td><td>0.023</td><td>2.558</td><td>2.573</td><td>0.001</td><td>False</td><td>17.83</td><td>17.0</td><td>17.0</td><td>16.8</td><td>--</td><td>--</td><td>#!!u is the only available band from our phot; 2mass: Jab=16.7 Kab=16.6</td></tr>\n",
       "<tr><td>Q2343+12</td><td>Q2343</td><td>356.618</td><td>12.816</td><td>50.29</td><td>50.91</td><td>0.032</td><td>2.515</td><td>2.573</td><td>0.0001</td><td>False</td><td>18.18</td><td>17.43</td><td>17.11</td><td>16.98</td><td>16.72</td><td>-25.9584</td><td>--</td></tr>\n",
       "</table></div>"
      ],
      "text/plain": [
       "<Table length=16>\n",
       "    Name    ...\n",
       "    unit    ...\n",
       "   str11    ...\n",
       "----------- ...\n",
       "   Q0100+13 ...\n",
       "HS0105+1619 ...\n",
       "   Q0142-10 ...\n",
       "  Q0207-003 ...\n",
       " Q0821+3107 ...\n",
       "   Q1009+29 ...\n",
       "  Q1217+490 ...\n",
       " Q1442+2931 ...\n",
       " Q1549+1919 ...\n",
       "HS1603+3820 ...\n",
       " Q1623-KP77 ...\n",
       " Q1623-KP76 ...\n",
       " Q1623-KP78 ...\n",
       "  HS1700+64 ...\n",
       "  Q2206-199 ...\n",
       "   Q2343+12 ..."
      ]
     },
     "execution_count": 11,
     "metadata": {},
     "output_type": "execute_result"
    }
   ],
   "source": [
    "qsos_bright"
   ]
  },
  {
   "cell_type": "code",
   "execution_count": 95,
   "id": "6cef8a40-1dbb-47e9-8dbe-2e0c0bb23aa5",
   "metadata": {},
   "outputs": [
    {
     "name": "stdout",
     "output_type": "stream",
     "text": [
      "  Name   Field   RA    Dec     x     y    EBV  z_simbad z_sys  zerr contam  u    g    r    i    z      MB    Comments\n",
      "  unit    unit  unit   unit   unit  unit  unit   unit    unit  unit  unit  unit unit unit unit unit   unit     unit  \n",
      "-------- ----- ------ ------ ----- ----- ----- -------- ----- ----- ------ ---- ---- ---- ---- ---- -------- --------\n",
      "Q0100+13 Q0100 15.797 13.272 50.46 50.41 0.031    2.686 2.721 0.001  False 17.4 16.7 16.5 16.5   -- -26.4472       --\n",
      "    Name    Field   RA    Dec     x     y    EBV  z_simbad z_sys  zerr contam  u     g    r     i     z    MB  Comments\n",
      "    unit     unit  unit   unit   unit  unit  unit   unit    unit  unit  unit  unit  unit unit  unit  unit unit   unit  \n",
      "----------- ----- ------ ------ ----- ----- ----- -------- ----- ----- ------ ---- ----- ---- ----- ----- ---- --------\n",
      "HS0105+1619 Q0105 17.027 16.597 52.31 53.45 0.058     2.64 2.652 0.001  False 18.1 17.19 17.0 16.87 16.67   --       --\n",
      "   Name   Field   RA    Dec     x     y    EBV  z_simbad z_sys  zerr contam   u     g     r     i     z    MB  Comments\n",
      "   unit    unit  unit   unit   unit  unit  unit   unit    unit  unit  unit   unit  unit  unit  unit  unit unit   unit  \n",
      "--------- ----- ------ ------ ----- ----- ----- -------- ----- ----- ------ ----- ----- ----- ----- ----- ---- --------\n",
      "Q0207-003 Q0207 32.461 -0.085 49.95 50.93 0.024     2.85 2.872 0.001  False 18.08 17.02 16.92 16.84 16.76   --       --\n",
      "   Name    Field    RA    Dec     x     y    EBV  z_simbad z_sys  zerr contam   u     g     r     i     z    MB  Comments\n",
      "   unit     unit   unit   unit   unit  unit  unit   unit    unit  unit  unit   unit  unit  unit  unit  unit unit   unit  \n",
      "---------- ----- ------- ------ ----- ----- ----- -------- ----- ----- ------ ----- ----- ----- ----- ----- ---- --------\n",
      "Q0821+3107 Q0821 125.282 31.131 54.68 52.86 0.039    2.624 2.616 0.001  False 18.08 17.26 17.04 16.87 16.66   --       --\n",
      "  Name   Field    RA    Dec     x     y    EBV  z_simbad z_sys  zerr contam   u     g     r     i     z      MB    Comments\n",
      "  unit    unit   unit   unit   unit  unit  unit   unit    unit  unit  unit   unit  unit  unit  unit  unit   unit     unit  \n",
      "-------- ----- ------- ------ ----- ----- ----- -------- ----- ----- ------ ----- ----- ----- ----- ----- -------- --------\n",
      "Q1009+29 Q1009 152.982 29.695 48.79 48.47 0.023     2.62 2.652 0.001  False 16.73 16.16 16.09 16.02 15.89 -26.7954       --\n",
      "   Name   Field    RA    Dec    x     y    EBV  z_simbad z_sys  zerr contam   u     g     r     i    z      MB    Comments\n",
      "   unit    unit   unit   unit  unit  unit  unit   unit    unit  unit  unit   unit  unit  unit  unit unit   unit     unit  \n",
      "--------- ----- ------- ------ ---- ----- ----- -------- ----- ----- ------ ----- ----- ----- ----- ---- -------- --------\n",
      "Q1217+490 Q1217 184.879 49.681 47.9 43.83 0.015    2.698 2.704 0.001  False 17.77 17.09 16.92 16.79 16.7 -25.9884       --\n",
      "   Name    Field    RA    Dec    x     y    EBV  z_simbad z_sys  zerr contam   u     g     r     i     z    MB      Comments   \n",
      "   unit     unit   unit   unit  unit  unit  unit   unit    unit  unit  unit   unit  unit  unit  unit  unit unit       unit     \n",
      "---------- ----- ------- ------ ---- ----- ----- -------- ----- ----- ------ ----- ----- ----- ----- ----- ---- ---------------\n",
      "Q1442+2931 Q1442 221.224 29.318 51.0 45.68 0.015    2.638  2.66 0.001   True 17.31 16.41 16.41 16.33 16.09   -- K=14.07,J=15.02\n",
      "   Name    Field    RA    Dec    x     y   EBV  z_simbad z_sys  zerr contam   u     g     r     i    z      MB    Comments\n",
      "   unit     unit   unit   unit  unit  unit unit   unit    unit  unit  unit   unit  unit  unit  unit unit   unit     unit  \n",
      "---------- ----- ------- ------ ---- ----- ---- -------- ----- ----- ------ ----- ----- ----- ----- ---- -------- --------\n",
      "Q1549+1919 Q1549 237.969 19.185 49.0 68.55 0.04     2.83 2.843 0.001  False 17.06 16.06 15.89 15.77 15.7 -27.0722       --\n",
      "    Name    Field    RA    Dec     x     y   EBV  z_simbad z_sys  zerr contam   u     g     r     i     z     MB  Comments\n",
      "    unit     unit   unit   unit   unit  unit unit   unit    unit  unit  unit   unit  unit  unit  unit  unit  unit   unit  \n",
      "----------- ----- ------- ------ ----- ----- ---- -------- ----- ----- ------ ----- ----- ----- ----- ----- ----- --------\n",
      "HS1603+3820 Q1603 241.231 38.201 40.49 45.81 0.01     2.51 2.551 0.001  False 16.74 16.11 15.93 15.85 15.67 -27.0       --\n",
      "   Name   Field    RA    Dec     x     y    EBV  z_simbad z_sys  zerr contam   u     g     r     i     z      MB    Comments\n",
      "   unit    unit   unit   unit   unit  unit  unit   unit    unit  unit  unit   unit  unit  unit  unit  unit   unit     unit  \n",
      "--------- ----- ------- ------ ----- ----- ----- -------- ----- ----- ------ ----- ----- ----- ----- ----- -------- --------\n",
      "HS1700+64 Q1700 255.252 64.203 47.81 50.38 0.022    2.736 2.751 0.001   True 16.82 16.08 15.98 15.89 15.82 -26.9486       --\n",
      "   Name   Field    RA     Dec     x     y    EBV  z_simbad z_sys  zerr contam   u    g    r    i    z    MB                                  Comments                               \n",
      "   unit    unit   unit    unit   unit  unit  unit   unit    unit  unit  unit   unit unit unit unit unit unit                                   unit                                 \n",
      "--------- ----- ------- ------- ----- ----- ----- -------- ----- ----- ------ ----- ---- ---- ---- ---- ---- -----------------------------------------------------------------------\n",
      "Q2206-199 Q2206 332.217 -19.733 51.73 54.07 0.023    2.558 2.573 0.001  False 17.83 17.0 17.0 16.8   --   -- #!!u is the only available band from our phot; 2mass: Jab=16.7 Kab=16.6\n",
      "  Name   Field    RA    Dec     x     y    EBV  z_simbad z_sys  zerr  contam   u     g     r     i     z      MB    Comments\n",
      "  unit    unit   unit   unit   unit  unit  unit   unit    unit  unit   unit   unit  unit  unit  unit  unit   unit     unit  \n",
      "-------- ----- ------- ------ ----- ----- ----- -------- ----- ------ ------ ----- ----- ----- ----- ----- -------- --------\n",
      "Q2343+12 Q2343 356.618 12.816 50.29 50.91 0.032    2.515 2.573 0.0001  False 18.18 17.43 17.11 16.98 16.72 -25.9584       --\n"
     ]
    }
   ],
   "source": [
    "\n",
    "#reload(mmask)\n",
    "from datetime import datetime# Making white-light cutout\n",
    "root_directory = KBSSpath\n",
    "condition=[qsos_bright['Field']!=\"Q1623\",qsos_bright['Field']!=\"Q0142\"]\n",
    "source_table = qsos_bright[(qsos_bright['Field']!=\"Q1623\") & (qsos_bright['Field']!=\"Q0142\")]\n",
    "\n",
    "#print(\"Number of directories found:\",len(all_directories))\n",
    "#gc.set_debug(gc.DEBUG_LEAK)\n",
    "radius=6\n",
    "dovar=False\n",
    "for element in source_table:\n",
    "    print(element)\n",
    "    qname = element[\"Name\"]\n",
    "    field = element[\"Field\"]\n",
    "    objname=\"qso\"\n",
    "    subdapath=KBSSpath+\"/\"+field+\"/\"+objname.upper()\n",
    "    #CubRunpath=KBSSpath+\"/CubEx_run/\"+field\n",
    "    fn=subdapath+\"/{}-{}_icubes_wcs.PSFSub.fits\".format(field.lower(),objname,int(radius/0.3))\n",
    "    hdu0=fits.open(fn)\n",
    "    hdr = hdu0[0].header\n",
    "    wc = (np.arange(hdr['NAXIS3']) - hdr['CRPIX3'] + 1) * hdr['CD3_3'] + hdr['CRVAL3']\n",
    "    #NSubfile = adp_prefix+\".PSFSub.fits\"\n",
    "    #zmask = np.loadtxt(subdir+\"/zmask.txt\").astype(np.int64)\n",
    "    zmask = mmask.determine_mask(wc,\"continuum\", element['z_sys'])\n",
    "    xpix = element[\"x\"]\n",
    "    ypix = element[\"y\"]\n",
    "    wimage = np.nansum(hdu0[0].data[zmask[0]:zmask[1],:],axis=0)\n",
    "    wimage[wimage==0] = np.nan\n",
    "    header = fits.Header()\n",
    "    header['DATE'] = datetime.now().strftime('%Y-%m-%dT%H:%M:%S')\n",
    "    header['CREATOR'] = 'Yuanze Ding'\n",
    "    header['COMMENT'] = 'White-light cutout from 3D data cube'\n",
    "    header['YSOURCE'] = ypix\n",
    "    header['XSOURCE'] = xpix\n",
    "    header['OBJECT'] = qname\n",
    "    # Extract WCS information from the original header\n",
    "    wcs_keys = ['CTYPE1', 'CTYPE2', 'CRVAL1', 'CRVAL2', 'CRPIX1', 'CRPIX2', 'CDELT1', 'CDELT2', 'CUNIT1', 'CUNIT2', 'CD1_1', 'CD1_2', 'CD2_1', 'CD2_2']\n",
    "    for key in wcs_keys:\n",
    "        if key in hdr:\n",
    "            header[key] = hdr[key]\n",
    "\n",
    "    hdu = fits.PrimaryHDU(wimage,header=header)\n",
    "    output_fn = subdapath+\"/{}-{}_icubes_wcs_{}.PSFSub.white.fits\".format(field.lower(),objname,int(radius/0.3))\n",
    "    hdulist = fits.HDUList([hdu])\n",
    "    hdulist.writeto(output_fn, overwrite=True)\n",
    "    if dovar:\n",
    "        fnvar=subdapath+\"/{}-{}_vcubes.fits\".format(field.lower(),objname)\n",
    "        hdu0_var=fits.open(fnvar)\n",
    "        hduvar = fits.PrimaryHDU(wvar,header=header)\n",
    "        wvar = np.nansum(hdu0_var[0].data[zmask[0]:zmask[1],:],axis=0)\n",
    "        wvar[wvar==0] = np.nan\n",
    "        output_fnvar = subdapath+\"/{}-{}_icubes_wcs.whitevar.fits\".format(field.lower(),objname)\n",
    "        hdulist = fits.HDUList([hduvar])\n",
    "        hdulist.writeto(output_fnvar, overwrite=True)\n",
    "#hdu2=fits.open(KBSSpath+\"/MUSEQSO/Q-0347-383/ADP.2016-06-02T13:21:57.103.fits\")"
   ]
  },
  {
   "cell_type": "code",
   "execution_count": 99,
   "id": "73d871f5-4be0-4f3d-8a1c-64bd90775b81",
   "metadata": {},
   "outputs": [
    {
     "name": "stdout",
     "output_type": "stream",
     "text": [
      "Number of directories found: 12\n",
      "Q0100+13\n",
      "15.797 13.272\n",
      "50.87291671204359 53.04720000122385\n",
      "sky level from vcube: 0.060331028301538046 ; from sigma clipping: 0.061062913 ; bkg level: 0.0076338905\n"
     ]
    },
    {
     "name": "stderr",
     "output_type": "stream",
     "text": [
      "WARNING: Input data contains invalid values (NaNs or infs), which were automatically clipped. [astropy.stats.sigma_clipping]\n",
      "WARNING: Input data contains invalid values (NaNs or infs), which were automatically clipped. [astropy.stats.sigma_clipping]\n",
      "WARNING: Input data contains invalid values (NaNs or infs), which were automatically clipped. [astropy.stats.sigma_clipping]\n",
      "WARNING: Input data contains invalid values (NaNs or infs), which were automatically clipped. [astropy.stats.sigma_clipping]\n"
     ]
    },
    {
     "name": "stdout",
     "output_type": "stream",
     "text": [
      "HS0105+1619\n",
      "17.027 16.597\n",
      "49.43423838716613 50.51880152295992\n",
      "sky level from vcube: 0.04183433563785241 ; from sigma clipping: 0.046049867 ; bkg level: 0.013854104\n"
     ]
    },
    {
     "name": "stderr",
     "output_type": "stream",
     "text": [
      "WARNING: Input data contains invalid values (NaNs or infs), which were automatically clipped. [astropy.stats.sigma_clipping]\n",
      "WARNING: Input data contains invalid values (NaNs or infs), which were automatically clipped. [astropy.stats.sigma_clipping]\n",
      "WARNING: Input data contains invalid values (NaNs or infs), which were automatically clipped. [astropy.stats.sigma_clipping]\n",
      "WARNING: Input data contains invalid values (NaNs or infs), which were automatically clipped. [astropy.stats.sigma_clipping]\n"
     ]
    },
    {
     "name": "stdout",
     "output_type": "stream",
     "text": [
      "Q0207-003\n",
      "32.461 -0.085\n",
      "53.584 52.5570000000555\n",
      "sky level from vcube: 0.04611689432395581 ; from sigma clipping: 0.049680743 ; bkg level: 0.010127598\n"
     ]
    },
    {
     "name": "stderr",
     "output_type": "stream",
     "text": [
      "WARNING: Input data contains invalid values (NaNs or infs), which were automatically clipped. [astropy.stats.sigma_clipping]\n",
      "WARNING: Input data contains invalid values (NaNs or infs), which were automatically clipped. [astropy.stats.sigma_clipping]\n",
      "WARNING: Input data contains invalid values (NaNs or infs), which were automatically clipped. [astropy.stats.sigma_clipping]\n",
      "WARNING: Input data contains invalid values (NaNs or infs), which were automatically clipped. [astropy.stats.sigma_clipping]\n"
     ]
    },
    {
     "name": "stdout",
     "output_type": "stream",
     "text": [
      "Q0821+3107\n",
      "125.282 31.131\n",
      "52.2275131399579 53.38760347937567\n",
      "sky level from vcube: 0.06266494291454598 ; from sigma clipping: 0.06549078 ; bkg level: 0.018385166\n"
     ]
    },
    {
     "name": "stderr",
     "output_type": "stream",
     "text": [
      "WARNING: Input data contains invalid values (NaNs or infs), which were automatically clipped. [astropy.stats.sigma_clipping]\n",
      "WARNING: Input data contains invalid values (NaNs or infs), which were automatically clipped. [astropy.stats.sigma_clipping]\n",
      "WARNING: Input data contains invalid values (NaNs or infs), which were automatically clipped. [astropy.stats.sigma_clipping]\n",
      "WARNING: Input data contains invalid values (NaNs or infs), which were automatically clipped. [astropy.stats.sigma_clipping]\n"
     ]
    },
    {
     "name": "stdout",
     "output_type": "stream",
     "text": [
      "Q1009+29\n",
      "152.982 29.695\n",
      "44.94308411834539 49.088006169389686\n",
      "sky level from vcube: 0.05592064729346742 ; from sigma clipping: 0.062023677 ; bkg level: 0.010670031\n"
     ]
    },
    {
     "name": "stderr",
     "output_type": "stream",
     "text": [
      "WARNING: Input data contains invalid values (NaNs or infs), which were automatically clipped. [astropy.stats.sigma_clipping]\n",
      "WARNING: Input data contains invalid values (NaNs or infs), which were automatically clipped. [astropy.stats.sigma_clipping]\n",
      "WARNING: Input data contains invalid values (NaNs or infs), which were automatically clipped. [astropy.stats.sigma_clipping]\n",
      "WARNING: Input data contains invalid values (NaNs or infs), which were automatically clipped. [astropy.stats.sigma_clipping]\n"
     ]
    },
    {
     "name": "stdout",
     "output_type": "stream",
     "text": [
      "Q1217+490\n",
      "184.879 49.681\n",
      "43.218938007259325 41.19601798368038\n",
      "sky level from vcube: 0.04312421591816471 ; from sigma clipping: 0.05705444 ; bkg level: 0.018985657\n"
     ]
    },
    {
     "name": "stderr",
     "output_type": "stream",
     "text": [
      "WARNING: Input data contains invalid values (NaNs or infs), which were automatically clipped. [astropy.stats.sigma_clipping]\n",
      "WARNING: Input data contains invalid values (NaNs or infs), which were automatically clipped. [astropy.stats.sigma_clipping]\n",
      "WARNING: Input data contains invalid values (NaNs or infs), which were automatically clipped. [astropy.stats.sigma_clipping]\n",
      "WARNING: Input data contains invalid values (NaNs or infs), which were automatically clipped. [astropy.stats.sigma_clipping]\n"
     ]
    },
    {
     "name": "stdout",
     "output_type": "stream",
     "text": [
      "Q1442+2931\n",
      "221.224 29.318\n",
      "41.574053041196606 42.988037841614045\n",
      "sky level from vcube: 0.06234231075289859 ; from sigma clipping: 0.05287138 ; bkg level: 0.014532032\n"
     ]
    },
    {
     "name": "stderr",
     "output_type": "stream",
     "text": [
      "WARNING: Input data contains invalid values (NaNs or infs), which were automatically clipped. [astropy.stats.sigma_clipping]\n",
      "WARNING: Input data contains invalid values (NaNs or infs), which were automatically clipped. [astropy.stats.sigma_clipping]\n",
      "WARNING: Input data contains invalid values (NaNs or infs), which were automatically clipped. [astropy.stats.sigma_clipping]\n",
      "WARNING: Input data contains invalid values (NaNs or infs), which were automatically clipped. [astropy.stats.sigma_clipping]\n"
     ]
    },
    {
     "name": "stdout",
     "output_type": "stream",
     "text": [
      "Q1549+1919\n",
      "237.969 19.185\n",
      "44.83325777287522 75.20000398181105\n",
      "sky level from vcube: 0.0553179392147253 ; from sigma clipping: 0.06644044 ; bkg level: 0.016030656\n"
     ]
    },
    {
     "name": "stderr",
     "output_type": "stream",
     "text": [
      "WARNING: Input data contains invalid values (NaNs or infs), which were automatically clipped. [astropy.stats.sigma_clipping]\n",
      "WARNING: Input data contains invalid values (NaNs or infs), which were automatically clipped. [astropy.stats.sigma_clipping]\n",
      "WARNING: Input data contains invalid values (NaNs or infs), which were automatically clipped. [astropy.stats.sigma_clipping]\n",
      "WARNING: Input data contains invalid values (NaNs or infs), which were automatically clipped. [astropy.stats.sigma_clipping]\n"
     ]
    },
    {
     "name": "stdout",
     "output_type": "stream",
     "text": [
      "HS1603+3820\n",
      "241.231 38.201\n",
      "38.58547702042855 53.01600114513727\n",
      "sky level from vcube: 0.07311087287027777 ; from sigma clipping: 0.05997777 ; bkg level: 0.0190582\n"
     ]
    },
    {
     "name": "stderr",
     "output_type": "stream",
     "text": [
      "WARNING: Input data contains invalid values (NaNs or infs), which were automatically clipped. [astropy.stats.sigma_clipping]\n",
      "WARNING: Input data contains invalid values (NaNs or infs), which were automatically clipped. [astropy.stats.sigma_clipping]\n",
      "WARNING: Input data contains invalid values (NaNs or infs), which were automatically clipped. [astropy.stats.sigma_clipping]\n",
      "WARNING: Input data contains invalid values (NaNs or infs), which were automatically clipped. [astropy.stats.sigma_clipping]\n"
     ]
    },
    {
     "name": "stdout",
     "output_type": "stream",
     "text": [
      "HS1700+64\n",
      "255.252 64.203\n",
      "49.83666092431496 54.988006240866376\n",
      "sky level from vcube: 0.05994306360593578 ; from sigma clipping: 0.058647398 ; bkg level: 0.014084321\n"
     ]
    },
    {
     "name": "stderr",
     "output_type": "stream",
     "text": [
      "WARNING: Input data contains invalid values (NaNs or infs), which were automatically clipped. [astropy.stats.sigma_clipping]\n",
      "WARNING: Input data contains invalid values (NaNs or infs), which were automatically clipped. [astropy.stats.sigma_clipping]\n",
      "WARNING: Input data contains invalid values (NaNs or infs), which were automatically clipped. [astropy.stats.sigma_clipping]\n",
      "WARNING: Input data contains invalid values (NaNs or infs), which were automatically clipped. [astropy.stats.sigma_clipping]\n"
     ]
    },
    {
     "name": "stdout",
     "output_type": "stream",
     "text": [
      "Q2206-199\n",
      "332.217 -19.733\n",
      "51.248187406707295 56.767999946570555\n",
      "sky level from vcube: 0.07573714982155874 ; from sigma clipping: 0.07861409 ; bkg level: 0.014603184\n"
     ]
    },
    {
     "name": "stderr",
     "output_type": "stream",
     "text": [
      "WARNING: Input data contains invalid values (NaNs or infs), which were automatically clipped. [astropy.stats.sigma_clipping]\n",
      "WARNING: Input data contains invalid values (NaNs or infs), which were automatically clipped. [astropy.stats.sigma_clipping]\n",
      "WARNING: Input data contains invalid values (NaNs or infs), which were automatically clipped. [astropy.stats.sigma_clipping]\n",
      "WARNING: Input data contains invalid values (NaNs or infs), which were automatically clipped. [astropy.stats.sigma_clipping]\n"
     ]
    },
    {
     "name": "stdout",
     "output_type": "stream",
     "text": [
      "Q2343+12\n",
      "356.618 12.816\n",
      "45.03452777960135 49.60000305773727\n",
      "sky level from vcube: 0.06013925856539714 ; from sigma clipping: 0.063121475 ; bkg level: 0.016699161\n"
     ]
    },
    {
     "name": "stderr",
     "output_type": "stream",
     "text": [
      "WARNING: Input data contains invalid values (NaNs or infs), which were automatically clipped. [astropy.stats.sigma_clipping]\n",
      "WARNING: Input data contains invalid values (NaNs or infs), which were automatically clipped. [astropy.stats.sigma_clipping]\n",
      "WARNING: Input data contains invalid values (NaNs or infs), which were automatically clipped. [astropy.stats.sigma_clipping]\n",
      "WARNING: Input data contains invalid values (NaNs or infs), which were automatically clipped. [astropy.stats.sigma_clipping]\n"
     ]
    }
   ],
   "source": [
    "import warnings\n",
    "from regions import Regions\n",
    "reload(ctools)\n",
    "root_directory = KBSSpath\n",
    "condition=[qsos_bright['Field']!=\"Q1623\",qsos_bright['Field']!=\"Q0142\"]\n",
    "source_table = qsos_bright[(qsos_bright['Field']!=\"Q1623\") & (qsos_bright['Field']!=\"Q0142\")]\n",
    "\n",
    "print(\"Number of directories found:\",len(source_table))\n",
    "#gc.set_debug(gc.DEBUG_LEAK)\n",
    "radius=6\n",
    "cutr=20\n",
    "\n",
    "for element in source_table:\n",
    "    qname = element[\"Name\"]\n",
    "    field = element[\"Field\"]\n",
    "    print(qname)\n",
    "    \n",
    "    objname=\"qso\"\n",
    "    subdapath=KBSSpath+\"/\"+field+\"/\"+objname.upper()\n",
    "    CubRunpath=KBSSpath+\"/CubEx_run/\"+field\n",
    "    ra = element['RA']\n",
    "    dec = element['Dec']\n",
    "    sc= SkyCoord(ra,dec,unit=(u.deg,u.deg))\n",
    "   # qname=\"LBQS 2139-4434\"\n",
    "    fname=subdapath+\"/{}-{}_icubes_wcs_{}.PSFSub.white.fits\".format(field.lower(),objname,int(radius/0.3))\n",
    "    fnamevar=subdapath+\"/{}-{}_icubes_wcs.whitevar.fits\".format(field.lower(),objname,int(radius/0.3))\n",
    "    hduvar=fits.open(fnamevar)\n",
    "    var=hduvar[0].data\n",
    "    #var[var==0]=np.nan\n",
    "    mean_sky_var, _, _ = sigma_clipped_stats(var, sigma=3.0, maxiters=None)\n",
    "    img = IM.image(fname,hdu=0,unit=u.Jy)\n",
    "    xpix = element[\"x\"]\n",
    "    ypix = element[\"y\"]\n",
    "    wcs=WCS(img.data.header)\n",
    "    \n",
    "    \n",
    "    reg= ctools.read_regions(KBSSpath+f\"/AbsHosts_nLOS_reg/{field}_AbsHost-nLOS.reg\",pix_scale=wcs.pixel_scale_matrix[1,1]*3600)\n",
    "    artists=[]\n",
    "    metas=[]\n",
    "    for r in reg:\n",
    "        artists.append(r.to_pixel(wcs).as_artist())\n",
    "        meta=dict(r.meta)\n",
    "        meta[\"fontsize\"]=5\n",
    "        metas.append(meta)\n",
    "    center = [ypix,xpix]\n",
    "    imcut, cp = img.img_cut(sc.ra.value,sc.dec.value,cutr)\n",
    "    sky_mean, sky_median, sky_std = sigma_clipped_stats(imcut, sigma=3.0, maxiters=None)\n",
    "    print(\"sky level from vcube:\",np.sqrt(mean_sky_var),\"; from sigma clipping:\",sky_std,\"; bkg level:\",sky_mean)\n",
    "    img.sources_skycord_cut = [xpix,ypix]\n",
    "    #img.cut_mask_image = np.zeros_like(img.cut_sigma_image)\n",
    "    sdmask = ctools.create_circular_mask(img.data.shape, center, 7)\n",
    "    try:\n",
    "        with warnings.catch_warnings(record=True) as w:\n",
    "            warnings.simplefilter(\"always\")\n",
    "            img.cut_mask_image = img.generate_cutmask(4,nsigma=2,sky_level=np.sqrt(mean_sky_var),sdmask=sdmask,data = img.data.data,deblend=False,addgrow=1,nlevels=32,source_dia=5,contrast=0.001)\n",
    "    except:\n",
    "        for warning in w:\n",
    "            print(f\"Warning: {warning.message}\")\n",
    "        continue\n",
    "    ctools.maskplot(img.data.data,img.cut_mask_image,meta=metas,artist=artists,output=root_directory+\"/diagnostic/\"+qname+\"_maskmap.pdf\",center=center)\n",
    "    outname = subdapath+\"/{}-{}_icubes_wcs_{}.PSFSub.mask.fits\".format(field.lower(),objname,int(radius/0.3))\n",
    "    ctools.write_fits_cube(img.cut_mask_image.astype(np.int32),img.data.header,outname)\n",
    "    #NSubfile = adp_prefix+\".PSFSub.fits\"\n",
    "    #zmask = np.loadtxt(subdir+\"/zmask.txt\",dtype=int)"
   ]
  },
  {
   "cell_type": "code",
   "execution_count": 88,
   "id": "a0f4e5fb-4293-48be-8596-23fc5d66b52f",
   "metadata": {},
   "outputs": [
    {
     "data": {
      "text/plain": [
       "{'label': 'Q0100  2.721'}"
      ]
     },
     "execution_count": 88,
     "metadata": {},
     "output_type": "execute_result"
    }
   ],
   "source": []
  },
  {
   "cell_type": "code",
   "execution_count": 81,
   "id": "03e50ddd-8e66-4b88-885f-b90943f79432",
   "metadata": {},
   "outputs": [
    {
     "data": {
      "text/plain": [
       "(50.04648997238098, 49.072736870607734)"
      ]
     },
     "execution_count": 81,
     "metadata": {},
     "output_type": "execute_result"
    }
   ],
   "source": [
    "artists[0].center"
   ]
  },
  {
   "cell_type": "code",
   "execution_count": 67,
   "id": "411b8beb-70fb-476b-b741-b3338f2c89bc",
   "metadata": {},
   "outputs": [
    {
     "data": {
      "text/plain": [
       "{'label': 'Q0100  2.721'}"
      ]
     },
     "execution_count": 67,
     "metadata": {},
     "output_type": "execute_result"
    }
   ],
   "source": [
    "reg[0].meta"
   ]
  },
  {
   "cell_type": "code",
   "execution_count": 71,
   "id": "5712a420-51fe-4dc2-81d2-272d547c3495",
   "metadata": {},
   "outputs": [
    {
     "ename": "AttributeError",
     "evalue": "module 'matplotlib.pyplot' has no attribute 'add_artist'",
     "output_type": "error",
     "traceback": [
      "\u001b[0;31m---------------------------------------------------------------------------\u001b[0m",
      "\u001b[0;31mAttributeError\u001b[0m                            Traceback (most recent call last)",
      "Cell \u001b[0;32mIn[71], line 1\u001b[0m\n\u001b[0;32m----> 1\u001b[0m \u001b[43mplt\u001b[49m\u001b[38;5;241;43m.\u001b[39;49m\u001b[43madd_artist\u001b[49m(artists[\u001b[38;5;241m0\u001b[39m])\n",
      "\u001b[0;31mAttributeError\u001b[0m: module 'matplotlib.pyplot' has no attribute 'add_artist'"
     ]
    }
   ],
   "source": [
    "plt.add_artist(artists[0])"
   ]
  },
  {
   "cell_type": "code",
   "execution_count": 53,
   "id": "6d23489e-4d28-4f3d-a0b1-591f8b473be0",
   "metadata": {},
   "outputs": [
    {
     "name": "stdout",
     "output_type": "stream",
     "text": [
      "Region: CircleSkyRegion\n",
      "center: <SkyCoord (FK5: equinox=J2000.000): (ra, dec) in deg\n",
      "    (15.79699292, 13.27175306)>\n",
      "radius: 3.0 arcsec\n",
      "Region: CircleSkyRegion\n",
      "center: <SkyCoord (FK5: equinox=J2000.000): (ra, dec) in deg\n",
      "    (15.80051, 13.2711325)>\n",
      "radius: 5.0 arcsec\n",
      "Region: CircleSkyRegion\n",
      "center: <SkyCoord (FK5: equinox=J2000.000): (ra, dec) in deg\n",
      "    (15.80004083, 13.271705)>\n",
      "radius: 5.0 arcsec\n",
      "Region: CircleSkyRegion\n",
      "center: <SkyCoord (FK5: equinox=J2000.000): (ra, dec) in deg\n",
      "    (15.80209958, 13.27299472)>\n",
      "radius: 5.0 arcsec\n",
      "Region: CircleSkyRegion\n",
      "center: <SkyCoord (FK5: equinox=J2000.000): (ra, dec) in deg\n",
      "    (15.79884458, 13.27309694)>\n",
      "radius: 5.0 arcsec\n",
      "Region: CircleSkyRegion\n",
      "center: <SkyCoord (FK5: equinox=J2000.000): (ra, dec) in deg\n",
      "    (15.79855333, 13.27198778)>\n",
      "radius: 5.0 arcsec\n",
      "Region: CircleSkyRegion\n",
      "center: <SkyCoord (FK5: equinox=J2000.000): (ra, dec) in deg\n",
      "    (15.79724583, 13.27124722)>\n",
      "radius: 5.0 arcsec\n",
      "Region: CircleSkyRegion\n",
      "center: <SkyCoord (FK5: equinox=J2000.000): (ra, dec) in deg\n",
      "    (15.79917083, 13.27301667)>\n",
      "radius: 5.0 arcsec\n",
      "Region: CircleSkyRegion\n",
      "center: <SkyCoord (FK5: equinox=J2000.000): (ra, dec) in deg\n",
      "    (15.8017375, 13.2701)>\n",
      "radius: 5.0 arcsec\n",
      "Region: CircleSkyRegion\n",
      "center: <SkyCoord (FK5: equinox=J2000.000): (ra, dec) in deg\n",
      "    (15.79585208, 13.27302444)>\n",
      "radius: 5.0 arcsec\n",
      "Region: CircleSkyRegion\n",
      "center: <SkyCoord (FK5: equinox=J2000.000): (ra, dec) in deg\n",
      "    (15.79515667, 13.26979111)>\n",
      "radius: 5.0 arcsec\n",
      "Region: CircleSkyRegion\n",
      "center: <SkyCoord (FK5: equinox=J2000.000): (ra, dec) in deg\n",
      "    (15.79577292, 13.27126528)>\n",
      "radius: 5.0 arcsec\n",
      "Region: CircleSkyRegion\n",
      "center: <SkyCoord (FK5: equinox=J2000.000): (ra, dec) in deg\n",
      "    (15.79405833, 13.27201889)>\n",
      "radius: 5.0 arcsec\n",
      "Region: CircleSkyRegion\n",
      "center: <SkyCoord (FK5: equinox=J2000.000): (ra, dec) in deg\n",
      "    (15.7942975, 13.27261972)>\n",
      "radius: 5.0 arcsec\n",
      "Region: CircleSkyRegion\n",
      "center: <SkyCoord (FK5: equinox=J2000.000): (ra, dec) in deg\n",
      "    (15.79806375, 13.27083861)>\n",
      "radius: 5.0 arcsec\n",
      "Region: CircleSkyRegion\n",
      "center: <SkyCoord (FK5: equinox=J2000.000): (ra, dec) in deg\n",
      "    (15.79690167, 13.27251694)>\n",
      "radius: 5.0 arcsec\n"
     ]
    }
   ],
   "source": [
    "import re\n",
    "from astropy.coordinates import SkyCoord\n",
    "from regions import CircleSkyRegion, PixCoord\n",
    "from astropy import units as u\n",
    "\n",
    "# Read the region file\n",
    "file_path = KBSSpath+f\"/AbsHosts_nLOS_reg/{field}_AbsHost-nLOS.reg\"\n",
    "with open(file_path, 'r') as file:\n",
    "    lines = file.readlines()\n",
    "\n",
    "# Regex to extract information\n",
    "pattern = re.compile(r'fk5;circle\\((.*?),(.*?),(.*?)i\\) #color=(.*?)  width=2 text={(.*?)}')\n",
    "\n",
    "regions = []\n",
    "\n",
    "for line in lines:\n",
    "    match = pattern.match(line)\n",
    "    if match:\n",
    "        ra, dec, radius, color, text = match.groups()\n",
    "        coord = SkyCoord(ra, dec, unit=(u.hourangle, u.deg), frame='fk5')\n",
    "        radius = float(radius) * u.arcsec  # assuming the radius is in arcseconds\n",
    "        \n",
    "        # Create a CircleSkyRegion\n",
    "        region = CircleSkyRegion(center=coord, radius=radius)\n",
    "        regions.append(region)\n",
    "\n",
    "# Now `regions` contains all the parsed CircleSkyRegions\n",
    "# You can manipulate them or plot them using regions library\n",
    "\n",
    "# Example: Printing region details\n",
    "for region in regions:\n",
    "    print(region)"
   ]
  },
  {
   "cell_type": "code",
   "execution_count": null,
   "id": "9a2e7582-b690-428b-9cef-1d9ef9651547",
   "metadata": {},
   "outputs": [],
   "source": []
  }
 ],
 "metadata": {
  "kernelspec": {
   "display_name": "Python (nmma)",
   "language": "python",
   "name": "nmma"
  },
  "language_info": {
   "codemirror_mode": {
    "name": "ipython",
    "version": 3
   },
   "file_extension": ".py",
   "mimetype": "text/x-python",
   "name": "python",
   "nbconvert_exporter": "python",
   "pygments_lexer": "ipython3",
   "version": "3.8.17"
  }
 },
 "nbformat": 4,
 "nbformat_minor": 5
}
