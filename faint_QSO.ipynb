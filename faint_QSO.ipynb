{
 "cells": [
  {
   "cell_type": "code",
   "execution_count": 3,
   "id": "1b3f30b5-fcf4-4d88-acae-8f6d271521e1",
   "metadata": {},
   "outputs": [],
   "source": [
    "%matplotlib inline\n",
    "import re\n",
    "import numpy as np\n",
    "import matplotlib.pyplot as plt\n",
    "import matplotlib.gridspec as gridspec\n",
    "import matplotlib as mpl\n",
    "from matplotlib.colors import SymLogNorm\n",
    "import scienceplots\n",
    "\n",
    "import astropy.units as u\n",
    "from astropy import constants\n",
    "from astropy.table import Table\n",
    "from astropy.coordinates import SkyCoord,FK5,ICRS\n",
    "from astropy.io import fits,ascii\n",
    "from astropy.wcs import WCS, utils as wcsutils\n",
    "from astropy.stats import sigma_clipped_stats\n",
    "import astropy.visualization as vis\n",
    "from astropy.modeling import models, fitting\n",
    "from astropy.nddata import StdDevUncertainty, Cutout2D\n",
    "from astropy.convolution import Gaussian2DKernel,Gaussian1DKernel\n",
    "from astropy.cosmology import Planck18,FlatLambdaCDM\n",
    "from scipy.signal import find_peaks\n",
    "#from scipy.constants import c\n",
    "\n",
    "\n",
    "from specutils import Spectrum1D, SpectralRegion\n",
    "from specutils.fitting import estimate_line_parameters,fit_lines,find_lines_threshold\n",
    "from specutils.manipulation import extract_region\n",
    "\n",
    "from photutils.aperture import EllipticalAperture, SkyEllipticalAperture\n",
    "\n",
    "import os, sys, glob, pdb, scipy\n",
    "\n",
    "from importlib import reload\n",
    "from spectral_cube import SpectralCube\n",
    "from reproject import reproject_interp\n",
    "import regions\n",
    "from regions.shapes.circle import CircleSkyRegion,CirclePixelRegion\n",
    "from regions import CircleAnnulusSkyRegion, CircleAnnulusPixelRegion, RectangleSkyRegion,RectanglePixelRegion\n",
    "from regions import PixCoord\n",
    "sys.path.append('/disk/bifrost/yuanze/KBSS/CubEx_run/scripts')\n",
    "import run_cubetools_v1 as ctools\n",
    "#mycosmos=FlatLambdaCDM(H0=70, Om0=0.3)\n",
    "brightu = r\"Brightness $\\rm (10^{-4}~erg~s^{-1}~arcsec^{-2}~cm^{-2}~\\AA^{-1})$\"\n",
    "def imshow_astro(img, wcsinfo = None, figsize = (10,10), colorbar =True,\n",
    "               cblabel=\"\", cbfrac = 0.035, norm = None,\n",
    "               stretch = vis.LinearStretch(), cmap = \"hot\",\n",
    "               vrange = (None, None)):\n",
    "    \n",
    "    _, med, std = sigma_clipped_stats(img.data)\n",
    "    \n",
    "    fig =  plt.figure(figsize = figsize)\n",
    "    if wcsinfo:\n",
    "        ax = plt.subplot(projection = wcsinfo)\n",
    "    else:\n",
    "        ax = plt.subplot()\n",
    "    \n",
    "    vmin, vmax = vrange\n",
    "    \n",
    "    if not vmin:\n",
    "        vmin = med\n",
    "    if not vmax:\n",
    "        vmax = med + 10*std\n",
    "    if not norm:\n",
    "        norm = vis.ImageNormalize(vmin = vmin, vmax = vmax, stretch = stretch)\n",
    "    im = ax.imshow(img, norm = norm, cmap = cmap)\n",
    "    if colorbar:\n",
    "        cb = plt.colorbar(im, label = cblabel, fraction =cbfrac)\n",
    "    return fig, ax, im\n",
    "KBSSpath=\"/disk/bifrost/yuanze/KBSS\""
   ]
  },
  {
   "cell_type": "code",
   "execution_count": 116,
   "id": "9611a46e-aeb0-4a9e-8895-179df1ef1d18",
   "metadata": {},
   "outputs": [
    {
     "name": "stdout",
     "output_type": "stream",
     "text": [
      "6.007871259603367e+41\n"
     ]
    }
   ],
   "source": [
    "ld=Planck18.luminosity_distance(2.65).to(u.cm).value\n",
    "print(4*np.pi*ld**2*1e-17)"
   ]
  },
  {
   "cell_type": "code",
   "execution_count": 153,
   "id": "da8daa24-9520-4b7a-a570-ce6c778f0c50",
   "metadata": {},
   "outputs": [
    {
     "name": "stderr",
     "output_type": "stream",
     "text": [
      "WARNING: UnitsWarning: '10^(-16)erg2/s2/cm6/arcsec4' contains multiple slashes, which is discouraged by the FITS standard [astropy.units.format.generic]\n"
     ]
    },
    {
     "name": "stdout",
     "output_type": "stream",
     "text": [
      "Q0100 BX160 Done\n",
      "-----------------------------------------\n",
      "distance from PSF to objects (pixels):\n",
      "[33.22200024 12.8938939 ]\n",
      "selected objects: obj_num, N_Voxels\n",
      "[2.] [98.]\n"
     ]
    },
    {
     "name": "stderr",
     "output_type": "stream",
     "text": [
      "WARNING: UnitsWarning: '10^(-16)erg2/s2/cm6/arcsec4' contains multiple slashes, which is discouraged by the FITS standard [astropy.units.format.generic]\n"
     ]
    },
    {
     "name": "stdout",
     "output_type": "stream",
     "text": [
      "Q0100 BX164 Done\n",
      "-----------------------------------------\n",
      "distance from PSF to objects (pixels):\n",
      "[ 6.11405757 33.71682666 53.10075329 18.20525474 52.67090658 52.54537277]\n",
      "selected objects: obj_num, N_Voxels\n",
      "[2.] [343.]\n"
     ]
    },
    {
     "name": "stderr",
     "output_type": "stream",
     "text": [
      "WARNING: UnitsWarning: '10^(-16)erg2/s2/cm6/arcsec4' contains multiple slashes, which is discouraged by the FITS standard [astropy.units.format.generic]\n"
     ]
    },
    {
     "name": "stdout",
     "output_type": "stream",
     "text": [
      "Q0105 BX58 Done\n",
      "-----------------------------------------\n"
     ]
    },
    {
     "name": "stderr",
     "output_type": "stream",
     "text": [
      "WARNING: UnitsWarning: '10^(-16)erg2/s2/cm6/arcsec4' contains multiple slashes, which is discouraged by the FITS standard [astropy.units.format.generic]\n"
     ]
    },
    {
     "name": "stdout",
     "output_type": "stream",
     "text": [
      "Q0207 D9 Done\n",
      "-----------------------------------------\n"
     ]
    },
    {
     "name": "stderr",
     "output_type": "stream",
     "text": [
      "WARNING: UnitsWarning: '10^(-16)erg2/s2/cm6/arcsec4' contains multiple slashes, which is discouraged by the FITS standard [astropy.units.format.generic]\n"
     ]
    },
    {
     "name": "stdout",
     "output_type": "stream",
     "text": [
      "Q0256 C31 Done\n",
      "-----------------------------------------\n",
      "distance from PSF to objects (pixels):\n",
      "[28.13699522 28.28718791 28.77148762 28.14889874 28.20244138 28.15324493\n",
      " 28.13699522  0.25495098 27.94671537 34.71141167]\n",
      "selected objects: obj_num, N_Voxels\n",
      "[9.] [188.]\n"
     ]
    },
    {
     "name": "stderr",
     "output_type": "stream",
     "text": [
      "WARNING: UnitsWarning: '10^(-16)erg2/s2/cm6/arcsec4' contains multiple slashes, which is discouraged by the FITS standard [astropy.units.format.generic]\n"
     ]
    },
    {
     "name": "stdout",
     "output_type": "stream",
     "text": [
      "Q0821 RK5 Done\n",
      "-----------------------------------------\n"
     ]
    },
    {
     "name": "stderr",
     "output_type": "stream",
     "text": [
      "WARNING: UnitsWarning: '10^(-16)erg2/s2/cm6/arcsec4' contains multiple slashes, which is discouraged by the FITS standard [astropy.units.format.generic]\n"
     ]
    },
    {
     "name": "stdout",
     "output_type": "stream",
     "text": [
      "Q1549 BX101 Done\n",
      "-----------------------------------------\n",
      "distance from PSF to objects (pixels):\n",
      "[29.33831113 29.99240237 29.65155139 29.77569814 29.50976279  7.9200505\n",
      " 29.68006065 29.65051939 29.65258168 29.54347474 28.81297277 30.07064017]\n",
      "selected objects: obj_num, N_Voxels\n",
      "[9.] [3713.]\n"
     ]
    },
    {
     "name": "stderr",
     "output_type": "stream",
     "text": [
      "WARNING: UnitsWarning: '10^(-16)erg2/s2/cm6/arcsec4' contains multiple slashes, which is discouraged by the FITS standard [astropy.units.format.generic]\n"
     ]
    },
    {
     "name": "stdout",
     "output_type": "stream",
     "text": [
      "Q1549 MD10 Done\n",
      "-----------------------------------------\n",
      "distance from PSF to objects (pixels):\n",
      "[17.83250964 15.25036393 66.7811388  30.47198221 11.85124466 42.33161466\n",
      "  5.42108845 28.73676565 33.23038519 41.21173255 54.648247   52.77137955\n",
      " 15.87288569 25.47734091 42.75565109 10.05940853 13.54057606 47.23218606\n",
      " 48.41794089 21.57599129 49.08562009 50.20000398 46.69184083 29.63639992\n",
      " 19.78062183 55.92104166 57.13341667 59.05611738 61.04938984]\n",
      "selected objects: obj_num, N_Voxels\n",
      "[ 6.  8. 21. 22.] [835.  86. 139. 105.]\n"
     ]
    },
    {
     "name": "stderr",
     "output_type": "stream",
     "text": [
      "WARNING: UnitsWarning: '10^(-16)erg2/s2/cm6/arcsec4' contains multiple slashes, which is discouraged by the FITS standard [astropy.units.format.generic]\n"
     ]
    },
    {
     "name": "stdout",
     "output_type": "stream",
     "text": [
      "Q1549 MD17 Done\n",
      "-----------------------------------------\n",
      "distance from PSF to objects (pixels):\n",
      "[25.32277433 43.15210771 32.73752129 84.40422857 36.55440466 78.26549751\n",
      " 42.88704466 24.73778082 21.12280284 34.22106077 51.97578667 38.31252667\n",
      " 13.79849629 15.79064597 12.12004125 62.58672144 32.98261663 25.21280825\n",
      " 10.98865324 14.66671402 23.7908743 ]\n",
      "selected objects: obj_num, N_Voxels\n",
      "[21. 23. 29. 32.] [ 80.  61.  70. 147.]\n"
     ]
    },
    {
     "name": "stderr",
     "output_type": "stream",
     "text": [
      "WARNING: UnitsWarning: '10^(-16)erg2/s2/cm6/arcsec4' contains multiple slashes, which is discouraged by the FITS standard [astropy.units.format.generic]\n"
     ]
    },
    {
     "name": "stdout",
     "output_type": "stream",
     "text": [
      "Q2233 D5 Done\n",
      "-----------------------------------------\n"
     ]
    },
    {
     "name": "stderr",
     "output_type": "stream",
     "text": [
      "WARNING: UnitsWarning: '10^(-16)erg2/s2/cm6/arcsec4' contains multiple slashes, which is discouraged by the FITS standard [astropy.units.format.generic]\n"
     ]
    },
    {
     "name": "stdout",
     "output_type": "stream",
     "text": [
      "Q2343 C28 Done\n",
      "-----------------------------------------\n",
      "distance from PSF to objects (pixels):\n",
      "[29.24377712  4.27057373]\n",
      "selected objects: obj_num, N_Voxels\n",
      "[2.] [358.]\n"
     ]
    },
    {
     "name": "stderr",
     "output_type": "stream",
     "text": [
      "WARNING: UnitsWarning: '10^(-16)erg2/s2/cm6/arcsec4' contains multiple slashes, which is discouraged by the FITS standard [astropy.units.format.generic]\n"
     ]
    },
    {
     "name": "stdout",
     "output_type": "stream",
     "text": [
      "Q2343 MD77 Done\n",
      "-----------------------------------------\n"
     ]
    },
    {
     "name": "stderr",
     "output_type": "stream",
     "text": [
      "WARNING: UnitsWarning: '10^(-16)erg2/s2/cm6/arcsec4' contains multiple slashes, which is discouraged by the FITS standard [astropy.units.format.generic]\n"
     ]
    },
    {
     "name": "stdout",
     "output_type": "stream",
     "text": [
      "DSF2237b D1 Done\n",
      "-----------------------------------------\n",
      "distance from PSF to objects (pixels):\n",
      "[ 2.35915239 15.31865856]\n",
      "selected objects: obj_num, N_Voxels\n",
      "[1.] [245.]\n"
     ]
    },
    {
     "name": "stderr",
     "output_type": "stream",
     "text": [
      "WARNING: UnitsWarning: '10^(-16)erg2/s2/cm6/arcsec4' contains multiple slashes, which is discouraged by the FITS standard [astropy.units.format.generic]\n"
     ]
    },
    {
     "name": "stdout",
     "output_type": "stream",
     "text": [
      "LyC22 AGN_2223 Done\n",
      "-----------------------------------------\n",
      "distance from PSF to objects (pixels):\n",
      "[36.37139123 36.23109438 35.71702815 35.56391992 35.58736995 35.82828073\n",
      " 35.57639808 35.57347889  3.08577381  2.64801813 32.44859627 13.46560433]\n",
      "selected objects: obj_num, N_Voxels\n",
      "[10. 11. 13.] [56. 88. 53.]\n"
     ]
    },
    {
     "name": "stderr",
     "output_type": "stream",
     "text": [
      "WARNING: UnitsWarning: '10^(-16)erg2/s2/cm6/arcsec4' contains multiple slashes, which is discouraged by the FITS standard [astropy.units.format.generic]\n"
     ]
    },
    {
     "name": "stdout",
     "output_type": "stream",
     "text": [
      "LyC22 M15 Done\n",
      "-----------------------------------------\n"
     ]
    }
   ],
   "source": [
    "Lya_3arc={}\n",
    "Lya_v={}\n",
    "Lya_SB={}\n",
    "Lya_sigma={}\n",
    "line_total_flux={}\n",
    "source_table = ascii.read(KBSSpath+\"/KCWI/KBSS_faint_AGN_short_updated.list\",format=\"ipac\")\n",
    "filters = [\"table['KCWI'] == 'yes'\"]\n",
    "dtype=\"KBSS\"\n",
    "all_directories,tab,all_data_dir = ctools.find_directories_from_ascii(source_table, KBSSpath,filters=filters,KBSS=(dtype==\"KBSS\"))\n",
    "#tid=[\"Q0100-BX160\"]\n",
    "\n",
    "#id_all=qsos[\"Name\"]\n",
    "\n",
    "# radius bin\n",
    "#rbin=np.logspace(-0.5,0.48,num=6)\n",
    "rbin=np.arange(0.3,6.3,0.3)\n",
    "# windowsize to extract the Lya nebulae\n",
    "windowsize=6*u.arcsec\n",
    "#idall=\n",
    "nondet_list=[]\n",
    "for nq,sentry in enumerate(tab):\n",
    "    sourcename=sentry[\"Name\"]#re.findall(r\"-(.*)\",id)[0]\n",
    "    csourcename=sentry[\"CName\"]\n",
    "    field=sentry[\"Field\"]#re.findall(r\"(.*)-\",id)[0]\n",
    "    fullname=field+\"-\"+sourcename\n",
    "    #sentry=qsos[qsos[\"Name\"]==sourcename]\n",
    "    #cubename=sentry[\"Cube\"].value[0]\n",
    "    #ext=sentry[\"ext\"].value[0]\n",
    "    subdapath=all_directories[nq]#KBSSpath+\"/\"+field+\"/\"+sourcename\n",
    "    datapath=all_data_dir[nq]\n",
    "    \n",
    "    Subfile = subdapath+\"/{}-{}_icubes.PSFCONTSub.fits\".format(field,sourcename)\n",
    "    varfile=datapath+\"/{}-{}_vcubes.fits\".format(field,csourcename)\n",
    "    maskfn=subdapath+\"/{}-{}_icubes.PSFSub.mask.fits\".format(field,sourcename)\n",
    "    \n",
    "    \n",
    "    O_cube = SpectralCube.read(Subfile)\n",
    "    OV_cube = SpectralCube.read(varfile)\n",
    "    wcsinfo = O_cube.wcs.celestial\n",
    "    RA = sentry[\"RA\"]\n",
    "    Dec = sentry[\"Decl\"]\n",
    "#    if sentry[\"zneb\"]>0:\n",
    "#        redshift=sentry[\"zneb\"]\n",
    "#    elif sentry[\"zabs\"]>0:\n",
    "#        redshift=sentry[\"zabs\"]\n",
    "#    else:\n",
    "    redshift=sentry[\"zlya\"]\n",
    "    #redshift=sentry[\"z_Lyaneb\"]\n",
    "    #sc=SkyCoord(ra=RA, dec=Dec, unit='deg',frame=\"icrs\", equinox='J2000')\n",
    "    pixel_scale=wcsinfo.pixel_scale_matrix[1,1] * 3600\n",
    "\n",
    "        \n",
    "    sregion_pix=regions.RectanglePixelRegion(PixCoord(x=sentry['x'],y=sentry['y']),width=windowsize.value/pixel_scale,height=windowsize.value/pixel_scale)\n",
    "    #sregion=regions.RectangleSkyRegion(sc,width=windowsize, height=windowsize)\n",
    "    #sregion_pix=sregion.to_pixel(wcsinfo)\n",
    "\n",
    "    #Sub_cube=O_cube.subcube_from_regions([sregion_pix])\n",
    "    #Var_cube=OV_cube.subcube_from_regions([sregion_pix])\n",
    "    \n",
    "    #wcssub=Sub_cube.wcs.celestial\n",
    "    \n",
    "    specwidth=1\n",
    "    cw=1215.67*(1+redshift) * u.AA\n",
    "    #Lya_varcube = Var_cube.with_spectral_unit(u.km/u.s, velocity_convention='relativistic', rest_value=1215.67*(1+redshift) * u.AA)\n",
    "    Lya_subvarcube = OV_cube.spectral_slab(cw-10*u.AA,cw+14*u.AA)\n",
    "    #Lya_cube = Sub_cube.with_spectral_unit(u.km/u.s, velocity_convention='relativistic', rest_value=1215.67*(1+redshift) * u.AA)\n",
    "    Lya_subcube = O_cube.spectral_slab(cw-10*u.AA,cw+14*u.AA)\n",
    "#    Lya_subcube_wav = Lya_subcube.with_spectral_unit(u.AA, velocity_convention='relativistic', rest_value=1215.67*(1+redshift) * u.AA)\n",
    "    \n",
    "    #Lya_moment_1 = Lya_subcube.moment(order=1)\n",
    "    #Lya_linewid = Lya_subcube.linewidth_sigma()\n",
    "    \n",
    "    #Lya_msig = np.sqrt(Lya_subvarcube.sum(axis=0,how='cube'))\n",
    "    #Lya_mflux = (Lya_subcube*specwidth).sum(axis=0,how='cube')\n",
    "\n",
    "    #mask=Lya_mflux.value > 1.0*Lya_msig.value\n",
    "    #bad=np.isnan(Lya_moment_1[mask])\n",
    "    #Lya_SB[fullname]=Lya_mflux[mask].mean().value*100\n",
    "    #flux weighted bulk velocity\n",
    "    #bad=np.isnan(Lya_moment_1[mask])\n",
    "    #Lya_v[sourcename]=(Lya_moment_1*Lya_mflux)[mask][~bad].sum()/Lya_mflux[mask][~bad].sum()\n",
    "#    Lya_v[sourcename+\"_err\"]=np.sqrt((Lya_moment_1*Lya_mflux)[mask][~bad].var())/Lya_mflux[mask][~bad].sum()\n",
    "    #flux weighted velocity dispersion\n",
    "    #bad=np.isnan(Lya_linewid[mask])\n",
    "    #Lya_sigma[sourcename]=(Lya_linewid*Lya_mflux)[mask][~bad].sum()/Lya_mflux[mask][~bad].sum()\n",
    "#    Lya_sigma[sourcename+\"_err\"]=np.sqrt((Lya_linewid*Lya_mflux)[mask][~bad].var())/Lya_mflux[mask][~bad].sum()\n",
    "\n",
    "\n",
    "\n",
    "    # Lya brightness within 3 arcsec\n",
    "    #region_sky = CircleSkyRegion(center=sc, radius=3 * u.arcsec)\n",
    "    #region_pix = region_sky.to_pixel(wcssub)\n",
    "    contmask=fits.open(maskfn)[0].data\n",
    "    region_pix = CircleAnnulusPixelRegion(PixCoord(x=sentry['x'],y=sentry['y']),0.6/pixel_scale,3/pixel_scale)#CirclePixelRegion(PixCoord(x=sentry['x'],y=sentry['y']), radius=3/pixel_scale)\n",
    "    camask=region_pix.to_mask()\n",
    "    camask2D_image = camask.to_image(Lya_subcube.shape[1:])\n",
    "    mask_2d_filtered=camask2D_image.astype(bool) & (~contmask.astype(bool)) #what if we take the circular-annulus region rather than the CubEx detected region,np.nansum(mask_3d_filtered,axis=0)\n",
    "    expanded_mask = np.repeat(mask_2d_filtered[np.newaxis, :, :], Lya_subcube.shape[0], axis=0)\n",
    "    \n",
    "    \n",
    "    Lya_mflux_sub=np.nansum(np.where(expanded_mask.astype(bool), Lya_subcube.unmasked_data[:].value, 0),axis=0)\n",
    "    Lya_mvar_sub=np.nansum(np.where(expanded_mask.astype(bool), Lya_subvarcube.unmasked_data[:].value, 0),axis=0)\n",
    "    \n",
    "    #npix=np.sum((~np.isnan(Lya_mflux_sub)).astype(int))\n",
    "    Lya_3arc[fullname]=[pixel_scale**2*np.nansum(Lya_mflux_sub),pixel_scale**2*np.sqrt(np.nansum(Lya_mvar_sub))]\n",
    "    print(field,sourcename,\"Done\")\n",
    "    print(\"-----------------------------------------\")\n",
    "    \n",
    "    ### method 2 =================================================\n",
    "    Checkcube=fits.open(subdapath+\"/{}-{}_icubes.PSFCONTSub.Objects_Id_Lya.fits\".format(field,sourcename))\n",
    "    objcat=np.genfromtxt(subdapath+\"/{}-{}_Lya.cat\".format(field,sourcename))\n",
    "    mask_3d=Checkcube[0].data\n",
    "    \n",
    "    # wavelength range for the extraction cube\n",
    "    lw=Checkcube[0].header[\"CRVAL3\"]\n",
    "    hw=Checkcube[0].header[\"CRVAL3\"]+(mask_3d.shape[0]-1)*Checkcube[0].header[\"CD3_3\"]\n",
    "    \n",
    "    #Cut-off: geometric center of the detected object must be within N pixels of the PSF center (1 pix \\simeq 0.3 arcsec)\n",
    "    Npix=15\n",
    "    s_coord=np.array([sentry['x'],sentry['y']])\n",
    "    nondet=False\n",
    "    if len(objcat.shape)>1:\n",
    "        obj_coord=objcat[:,2:4]\n",
    "        obj_num=objcat[:,0]\n",
    "        dis=np.linalg.norm(obj_coord - np.array(s_coord),axis=1)\n",
    "        print(\"distance from PSF to objects (pixels):\")\n",
    "        print(dis)\n",
    "        sel_num=obj_num[dis<Npix]\n",
    "        print(\"selected objects: obj_num, N_Voxels\")\n",
    "        print(sel_num,objcat[:,1][dis<Npix])\n",
    "        if sel_num.size == 0:\n",
    "            nondet=True\n",
    "    else:\n",
    "        sel_num=objcat[0]\n",
    "        obj_coord=objcat[2:4]\n",
    "    nondet_list.append(nondet)\n",
    "    #sel_num=np.array([4])\n",
    "    #if nondet:\n",
    "        #region_pixgen = CirclePixelRegion(center=PixCoord(x=sentry['x'],y=sentry['y']),radius=2)\n",
    "        #mask_3d_filtered = region_pixgen\n",
    "    mask_3d_filtered=np.isin(mask_3d, sel_num.astype(int))\n",
    "\n",
    "    region_pix4 = CirclePixelRegion(center=PixCoord(x=sentry['x'],y=sentry['y']),radius=2)\n",
    "    rmask=region_pix4.to_mask()\n",
    "    rmask2D_image = rmask.to_image(mask_3d_filtered.shape[1:])\n",
    "    expanded_rmask_image = np.repeat(rmask2D_image[np.newaxis, :, :], mask_3d_filtered.shape[0], axis=0)\n",
    "    mask_3d_filtered=mask_3d_filtered & (~expanded_rmask_image.astype(bool))\n",
    "\n",
    "    mask_2d_filtered=np.nansum(mask_3d_filtered,axis=0)\n",
    "    subcube1=O_cube.spectral_slab(lw*u.AA,hw*u.AA)\n",
    "    varsubcube1=OV_cube.spectral_slab(lw*u.AA,hw*u.AA)\n",
    "    subcube2=subcube1.unmasked_data[:].value\n",
    "    varsubcube2=varsubcube1.unmasked_data[:].value\n",
    "    line_maskedcube = np.where(mask_3d_filtered.astype(bool), subcube2, 0)\n",
    "    line_maskedcube_var = np.where(mask_3d_filtered.astype(bool), varsubcube2, 0)\n",
    "    line_mflux=np.nansum(line_maskedcube,axis=0)\n",
    "    line_mflux_var=np.nansum(line_maskedcube_var,axis=0)\n",
    "                        \n",
    "    line_total_flux[fullname]=[np.nansum(line_mflux*pixel_scale**2,axis=(0,1)),np.sqrt(np.nansum(line_mflux_var,axis=(0,1)))*pixel_scale**2]\n",
    "    \n",
    "    # Log scaled radius SB profile\n",
    "    \"\"\"\n",
    "    Aregions=[]\n",
    "    Aregions_value=[]\n",
    "    Aregions_sigvalue=[]\n",
    "    for rind, rin in enumerate(rbin):\n",
    "        if rind<len(rbin)-1:\n",
    "            region_annulus_sky = CircleAnnulusSkyRegion(center=sc,\n",
    "                                                inner_radius=rin * u.arcsec,\n",
    "                                                outer_radius=rbin[rind+1] * u.arcsec)\n",
    "            region_annulus_pix = region_annulus_sky.to_pixel(wcssub)\n",
    "            Aregions.append(region_annulus_pix)\n",
    "            Lya_mflux_sub=Lya_subcube.subcube_from_regions([region_annulus_pix]).sum(axis=0,how='cube')\n",
    "            Lya_mvar_sub=Lya_subvarcube.subcube_from_regions([region_annulus_pix]).sum(axis=0,how='cube')\n",
    "            Aregions_value.append((np.nansum(Lya_mflux_sub/Lya_mvar_sub)/np.nansum(1/Lya_mvar_sub)).value)\n",
    "            Aregions_sigvalue.append(np.sqrt(1/np.nansum(1/Lya_mvar_sub)).value)\n",
    "        else:\n",
    "            continue\n",
    "    annulus_bin[sourcename]=Aregions\n",
    "    annulus_value[sourcename]=[Aregions_value,Aregions_sigvalue]\n",
    "    \"\"\"\n",
    "#    mask_annulus_reg = region_annulus_pix.to_mask()\n",
    "#    mask_annulus_reg = mask_annulus_reg.to_image(Sub_cube.shape[1:]).astype(bool)\n",
    "\n",
    "\n",
    "\n",
    "\n",
    "\n"
   ]
  },
  {
   "cell_type": "code",
   "execution_count": 49,
   "id": "beedbd10-08ad-4cc3-826a-bb778afbe182",
   "metadata": {},
   "outputs": [
    {
     "data": {
      "text/plain": [
       "(25, 100, 100)"
      ]
     },
     "execution_count": 49,
     "metadata": {},
     "output_type": "execute_result"
    }
   ],
   "source": [
    "Lya_subcube.unmasked_data[:].shape"
   ]
  },
  {
   "cell_type": "code",
   "execution_count": 24,
   "id": "1bbd8775-82ce-4ad8-9d3f-4ccf8608c208",
   "metadata": {},
   "outputs": [],
   "source": [
    "import pandas as pd\n",
    "\n",
    "#col_widths = [12, 5, 10, 10, 10, 18, 12]  # Example widths, adjust as necessary\n",
    "photpath=\"/disk/bifrost/yuanze/KBSS/sedfit_master\"\n",
    "\n",
    "# Read the data\n",
    "sedfitted = pd.read_csv(\"/disk/bifrost/yuanze/KBSS/sedfit_master/summary_csf_all_agegt50.dat\", delim_whitespace=True, header=None)\n",
    "sedfitted.columns = ['ID', 'tau', 'EBV', 'age', 'SFR', 'Mstar', 'chi2nu']\n",
    "#sedfitted=sedfitted.set_index('ID')\n",
    "chen2021 = pd.read_csv(\"/disk/bifrost/yuanze/KBSS/KCWI/sfgs.kcwi\", delim_whitespace=True, header=None)\n",
    "chen2021.columns = ['ID','Lyatot','Lyatoterr']\n",
    "\n",
    "filtered_sedfit = sedfitted[sedfitted['ID'].isin(chen2021['ID'].to_list())]\n",
    "#Mstar=filtered_sedfit['Mstar']\n",
    "merged_set = pd.merge(filtered_sedfit, chen2021, on='ID', how='inner')\n",
    "\n",
    "allSFGfield=[]\n",
    "for loc, row in merged_set.iterrows():\n",
    "    fieldnow=re.findall(r\"(.*)-\",row[\"ID\"])[0]\n",
    "    merged_set.at[loc,\"field\"]=fieldnow\n",
    "    if fieldnow in allSFGfield:\n",
    "        continue\n",
    "    else:\n",
    "        allSFGfield.append(fieldnow)\n",
    "\n",
    "for fieldnow in allSFGfield:\n",
    "    inphot = ascii.read(photpath+\"/inphot/\"+fieldnow.lower()+\"_inphot_refit.dat\")\n",
    "    filterpath = photpath+\"/filters_standard.\"+fieldnow.lower()+\".v2\"\n",
    "    all_filters = ascii.read(filterpath)['col1']\n",
    "    filtind = np.ravel(np.where(all_filters==\"Rs_lris\"))[0]\n",
    "    for loc,row in merged_set[merged_set[\"field\"]==fieldnow].iterrows():\n",
    "        photentry = inphot[inphot['col1']==row[\"ID\"]]\n",
    "        MRs = photentry[\"col{}\".format(2+2*filtind)][0]\n",
    "        MRserr = photentry[\"col{}\".format(3+2*filtind)][0]\n",
    "        merged_set.at[loc,\"MRs\"]=MRs\n",
    "        merged_set.at[loc,\"MRserr\"]=MRserr\n",
    "        if row[\"Lyatot\"]<2*row[\"Lyatoterr\"]:\n",
    "            merged_set.at[loc,\"Lyatot\"]=row[\"Lyatoterr\"]*1"
   ]
  },
  {
   "cell_type": "code",
   "execution_count": 57,
   "id": "d02ea682-fc08-4601-8403-bcf96684f2dd",
   "metadata": {},
   "outputs": [
    {
     "data": {
      "text/html": [
       "&lt;Column name=&apos;col1&apos; dtype=&apos;str10&apos; length=11&gt;\n",
       "<table>\n",
       "<tr><td>Un_lris</td></tr>\n",
       "<tr><td>G_lris</td></tr>\n",
       "<tr><td>Rs_lris</td></tr>\n",
       "<tr><td>mosfire_J</td></tr>\n",
       "<tr><td>mosfire_H</td></tr>\n",
       "<tr><td>mosfire_Ks</td></tr>\n",
       "<tr><td>irac1</td></tr>\n",
       "<tr><td>irac2</td></tr>\n",
       "<tr><td>irac3</td></tr>\n",
       "<tr><td>f140w</td></tr>\n",
       "<tr><td>f160w</td></tr>\n",
       "</table>"
      ],
      "text/plain": [
       "<Column name='col1' dtype='str10' length=11>\n",
       "   Un_lris\n",
       "    G_lris\n",
       "   Rs_lris\n",
       " mosfire_J\n",
       " mosfire_H\n",
       "mosfire_Ks\n",
       "     irac1\n",
       "     irac2\n",
       "     irac3\n",
       "     f140w\n",
       "     f160w"
      ]
     },
     "execution_count": 57,
     "metadata": {},
     "output_type": "execute_result"
    }
   ],
   "source": [
    "all_filters"
   ]
  },
  {
   "cell_type": "code",
   "execution_count": 154,
   "id": "16df0b8f-1ae7-43a1-8edb-1cbbc888da59",
   "metadata": {},
   "outputs": [
    {
     "name": "stdout",
     "output_type": "stream",
     "text": [
      "\n",
      "\n",
      "\n",
      "\n",
      "\n",
      "\n",
      "\n",
      "\n",
      "\n",
      "\n",
      "\n",
      "\n",
      "\n",
      "\n",
      "\n"
     ]
    },
    {
     "data": {
      "image/png": "[encoded data removed]",
      "text/plain": [
       "<Figure size 1200x900 with 1 Axes>"
      ]
     },
     "metadata": {},
     "output_type": "display_data"
    }
   ],
   "source": [
    "plt.style.use([\"science\",'no-latex'])\n",
    "plt.rcParams.update({\n",
    "    \"font.family\": \"dejavu sans\",   # specify font family here\n",
    "    \"font.serif\": [\"Times\"],  # specify font here\n",
    "    \"font.size\":8,\n",
    "\"legend.fancybox\":True})\n",
    "\n",
    "filters = [\"table['KCWI'] == 'yes'\",\"table['R'] > 22\"]\n",
    "dtype=\"KBSS\"\n",
    "source_table = ascii.read(KBSSpath+\"/KCWI/KBSS_faint_AGN.list\",format=\"ipac\")\n",
    "\n",
    "all_directories,tab,all_data_dir = ctools.find_directories_from_ascii(source_table, KBSSpath,filters=filters,KBSS=(dtype==\"KBSS\"))\n",
    "\n",
    "Pub_filt=[\"sdss.up\",\"sdss.gp\",\"sdss.rp\",\"sdss.ip\",\"sdss.zp\",\"WISE1\",\"WISE2\",\"WISE3\",\"WISE4\",\"2mass.J\",\"2mass.H\",\"2mass.Ks\"]\n",
    "\n",
    "fig,axs=plt.subplots(figsize=(4,3),dpi=300)\n",
    "\n",
    "axs.errorbar(merged_set[\"MRs\"],merged_set[\"Lyatot\"]*0.1,xerr=merged_set[\"MRserr\"],ms=1,lw=0.5,yerr=merged_set[\"Lyatoterr\"]*0.1,fmt=\"^\",label=\"KBSS-KCWI SFG\")\n",
    "\n",
    "metrics=Lya_3arc\n",
    "#metrics2=mstar_2\n",
    "#metrics1=mstar_1\n",
    "ms=3\n",
    "lw=0.5\n",
    "photpath=\"/disk/bifrost/yuanze/KBSS/sedfit_master\"\n",
    "tfs=4\n",
    "Lyatot=[]\n",
    "Lyatoterr=[]\n",
    "upper=[]\n",
    "for ind,sentry in enumerate(tab):\n",
    "    sourcename=sentry[\"Name\"]\n",
    "    fieldnow = sentry[\"Field\"]\n",
    "    fullname=fieldnow+\"-\"+sourcename\n",
    "    if sentry[\"zneb\"]>0:\n",
    "        redshift=sentry[\"zneb\"]\n",
    "    elif sentry[\"zabs\"]>0:\n",
    "        redshift=sentry[\"zabs\"]\n",
    "    else:\n",
    "        redshift=sentry[\"zlya\"]\n",
    "    #ld=Planck18.luminosity_distance(redshift).to(u.cm).value\n",
    "    #S=4*np.pi*ld\n",
    "    sld=Planck18.luminosity_distance(redshift).to(u.cm).value**2*4*np.pi*1e-16\n",
    "    print()\n",
    "    if fullname in Lya_3arc.keys():\n",
    "        #if sentry[\"ext\"].value[0]==\"False\":\n",
    "        #inphot = ascii.read(photpath+\"/inphot/\"+fieldnow.lower()+\"_inphot_refit.dat\")\n",
    "        #filterpath = photpath+\"/filters_standard.\"+fieldnow.lower()+\".v2\"\n",
    "        #all_filters = ascii.read(filterpath)['col1']\n",
    "        #filtind = np.ravel(np.where(all_filters==\"Rs_lris\"))[0]\n",
    "        #photentry = inphot[inphot['col1']==fieldnow+\"-\"+sourcename]\n",
    "        #MRs = photentry[\"col{}\".format(2+2*filtind)][0]\n",
    "        mRs = sentry['R']\n",
    "        mRserr = 0.1#photentry[\"col{}\".format(3+2*filtind)][0]\n",
    "        uplims=False\n",
    "        if metrics[fullname][0]<= 3*metrics[fullname][1]:\n",
    "            uplims=True\n",
    "            upper.append(1)\n",
    "            y_toplot = 3*metrics[fullname][1]\n",
    "            y_tosave = 3*line_total_flux[fullname][1]\n",
    "            #y_tosave_err = metrics[fullname][1]\n",
    "        else:\n",
    "            upper.append(0)\n",
    "            y_tosave = line_total_flux[fullname][0]\n",
    "            y_toplot = metrics[fullname][0]\n",
    "            \n",
    "        Lyatot.append(y_tosave*sld)\n",
    "        Lyatoterr.append(line_total_flux[fullname][1]*sld)\n",
    "        #Lyatot.append(y_toplot*sld)\n",
    "        #Lyatoterr.append(metrics[fullname][1]*sld)\n",
    "        axs.errorbar(mRs,y_toplot,xerr=mRserr,yerr=metrics[fullname][1],uplims=uplims,mfc=\"None\",fmt=\"o\",lw=lw,ms=ms,color=\"xkcd:Purple\")\n",
    "        #else:\n",
    "        #    axs.errorbar(metrics2[0][ind],metrics[sourcename][0],xerr=metrics2[1][ind],yerr=metrics[sourcename][1],fmt=\"*\",color=colorlst[0])\n",
    "        jitter=5+np.random.random()\n",
    "        axs.text(mRs,jitter/5*y_toplot,fullname,fontsize=tfs)#transform=axs.transAxes,verticalalignment='top',horizontalalignment='right',fontsize=7)\n",
    "#newid1=filtered_id_1.insert(-1,\"Q1623-KP76\")\n",
    "from astropy.table import Table, Column\n",
    "tab.add_column(Column(name='Lyatot', data=Lyatot))\n",
    "tab.add_column(Column(name='Lyatot_err', data=Lyatoterr))\n",
    "tab.add_column(Column(name='UpperLim', data=upper))\n",
    "\n",
    "#qsos_bright.add_column(Column(name='z_Lyaneb', data=z_Lyaneb))\n",
    "ascii.write(tab,KBSSpath+\"/KCWI/KBSS_faint_AGN_short_updated_2.list\",format=\"ipac\",overwrite=True)\n",
    "\n",
    "from matplotlib.lines import Line2D\n",
    "proxy_line1 = plt.plot([], [], marker=\"o\",lw=0, mfc=\"None\",ms=ms,color=\"xkcd:Purple\", label=\"Faint QSOs\")\n",
    "#proxy_line2 = plt.plot([], [], marker=\"o\",lw=0, mfc=\"None\",ms=ms,color=colorlst[1], label=\"Type-2 AGN\")\n",
    "axs.legend()\n",
    "axs.set_xlabel(r\"$m_{\\rm R}$\")\n",
    "axs.set_ylabel(r\"Ly$\\alpha_{tot} (10^{-16}~\\rm erg~s^{-1}~cm^{-2})$\")\n",
    "#axs.set_xscale\n",
    "#axs.set_xlim([22,26])\n",
    "\n",
    "axs.set_yscale(\"log\")\n",
    "\n",
    "#axs.set_ylim([-1,10])\n",
    "#axs.set_yticks([1e-2,1e-1,1,5,10])\n",
    "#axs.set_yticklabels([r\"10$^{-2}$\",r\"10$^{-1}$\",\"1\",\"5\",\"10\"])\n",
    "\n",
    "\n",
    "\n",
    "#axs.set_xscale(\"symlog\")\n",
    "#fig.savefig(KBSSpath+\"/fig/Lya_MRs.pdf\")"
   ]
  },
  {
   "cell_type": "code",
   "execution_count": 89,
   "id": "886b291d-f2de-4711-9069-85447ff6770a",
   "metadata": {},
   "outputs": [],
   "source": [
    "filters=[\"table['zlya'] < 2.6\",\"table['zlya'] > 1.\",\"(table['RA'] < 100) | (table['RA'] > 300)\",\"table['KCWI']!='yes'\"]\n",
    "all_directories,tab,all_data_dir = ctools.find_directories_from_ascii(source_table, KBSSpath,filters=filters,KBSS=(dtype==\"KBSS\"))"
   ]
  },
  {
   "cell_type": "code",
   "execution_count": 139,
   "id": "18bb7b86-ee2e-4cef-911d-6929d8f35a2d",
   "metadata": {},
   "outputs": [
    {
     "data": {
      "text/plain": [
       "{'Q0100-BX160': [0.0, 0.0],\n",
       " 'Q0100-BX164': [0.24289052, 0.006696460112161477],\n",
       " 'Q0105-BX58': [0.20659217, 0.006388217870435036],\n",
       " 'Q0207-D9': [0.12942955, 0.004184911397519613],\n",
       " 'Q0256-C31': [0.058629822, 0.003458676192873689],\n",
       " 'Q0821-RK5': [1.4983976, 0.016310792397258002],\n",
       " 'Q1549-BX101': [2.1973205, 0.023628860937951517],\n",
       " 'Q1549-GNB4950': [6.7148037, 0.03096382065950382],\n",
       " 'Q1549-MD10': [0.052294403, 0.004302099224206559],\n",
       " 'Q1549-MD17': [0.0, 0.0],\n",
       " 'Q2233-D5': [0.06314069, 0.0041001623269092055],\n",
       " 'Q2343-C28': [0.13402347, 0.005105463577913021],\n",
       " 'Q2343-MD77': [0.06467693, 0.004218047328223332],\n",
       " 'DSF2237b-D1': [0.07627735, 0.0037247010120023054],\n",
       " 'LyC22-AGN_2223': [0.07663816, 0.003547775648798747],\n",
       " 'LyC22-M15': [0.22225809, 0.005724994157578589]}"
      ]
     },
     "execution_count": 139,
     "metadata": {},
     "output_type": "execute_result"
    }
   ],
   "source": [
    "line_total_flux"
   ]
  },
  {
   "cell_type": "code",
   "execution_count": 93,
   "id": "2e58d001-b28b-45c2-9ac4-44e6122aa876",
   "metadata": {},
   "outputs": [],
   "source": [
    "filters=[\"table['KCWI']=='yes'\",\"table['zlya'] < 2.6\",\"table['zlya'] > 1.\"]\n",
    "all_directories,tab,all_data_dir = ctools.find_directories_from_ascii(source_table, KBSSpath,filters=filters,KBSS=(dtype==\"KBSS\"))"
   ]
  },
  {
   "cell_type": "code",
   "execution_count": 128,
   "id": "515ea9ab-a21b-452c-8e8c-7a805e582808",
   "metadata": {},
   "outputs": [
    {
     "data": {
      "text/plain": [
       "[0.04163807, 0.0033583721927951033]"
      ]
     },
     "execution_count": 128,
     "metadata": {},
     "output_type": "execute_result"
    }
   ],
   "source": [
    "line_total_flux[fullname]"
   ]
  },
  {
   "cell_type": "code",
   "execution_count": null,
   "id": "7f4d3814-5f81-47ca-a893-e68c88aa49de",
   "metadata": {},
   "outputs": [],
   "source": []
  }
 ],
 "metadata": {
  "kernelspec": {
   "display_name": "Python (nmma)",
   "language": "python",
   "name": "nmma"
  },
  "language_info": {
   "codemirror_mode": {
    "name": "ipython",
    "version": 3
   },
   "file_extension": ".py",
   "mimetype": "text/x-python",
   "name": "python",
   "nbconvert_exporter": "python",
   "pygments_lexer": "ipython3",
   "version": "3.8.17"
  }
 },
 "nbformat": 4,
 "nbformat_minor": 5
}
