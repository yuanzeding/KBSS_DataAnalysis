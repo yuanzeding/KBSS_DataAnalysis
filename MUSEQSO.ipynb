{
 "cells": [
  {
   "cell_type": "code",
   "execution_count": 6,
   "id": "86e403e0-9584-41fb-ad2c-5c16c37cc590",
   "metadata": {},
   "outputs": [],
   "source": [
    "%matplotlib inline\n",
    "import re\n",
    "import numpy as np\n",
    "import matplotlib.pyplot as plt\n",
    "import matplotlib.gridspec as gridspec\n",
    "import matplotlib as mpl\n",
    "from matplotlib.colors import SymLogNorm\n",
    "import scienceplots\n",
    "\n",
    "import astropy.units as u\n",
    "from astropy import constants\n",
    "from astropy.table import Table\n",
    "from astropy.coordinates import SkyCoord,FK5,ICRS\n",
    "from astropy.io import fits,ascii\n",
    "from astropy.wcs import WCS, utils as wcsutils\n",
    "from astropy.stats import sigma_clipped_stats\n",
    "import astropy.visualization as vis\n",
    "from astropy.modeling import models, fitting\n",
    "from astropy.nddata import StdDevUncertainty, Cutout2D\n",
    "from astropy.convolution import Gaussian2DKernel,Gaussian1DKernel\n",
    "from astropy.cosmology import Planck18\n",
    "from scipy.signal import find_peaks\n",
    "#from scipy.constants import c\n",
    "\n",
    "\n",
    "\n",
    "from photutils.aperture import EllipticalAperture, SkyEllipticalAperture\n",
    "\n",
    "import os, sys, glob, pdb, scipy\n",
    "\n",
    "from importlib import reload\n",
    "import pyregion as pyreg\n",
    "from spectral_cube import SpectralCube\n",
    "from reproject import reproject_interp\n",
    "import regions\n",
    "from regions.shapes.circle import CircleSkyRegion,CirclePixelRegion\n",
    "from regions import CircleAnnulusSkyRegion, CircleAnnulusPixelRegion, RectangleSkyRegion\n",
    "from regions import PixCoord\n",
    "sys.path.append('/disk/bifrost/yuanze/KBSS/MUSEQSO')\n",
    "import run_cubetools_MUSE as ctools\n",
    "brightu = r\"Brightness $\\rm (10^{-4}~erg~s^{-1}~arcsec^{-2}~cm^{-2}~\\AA^{-1})$\"\n",
    "def imshow_astro(img, wcsinfo = None, figsize = (10,10), colorbar =True,\n",
    "               cblabel=\"\", cbfrac = 0.035, norm = None,\n",
    "               stretch = vis.LinearStretch(), cmap = \"hot\",\n",
    "               vrange = (None, None)):\n",
    "    \n",
    "    _, med, std = sigma_clipped_stats(img.data)\n",
    "    \n",
    "    fig =  plt.figure(figsize = figsize)\n",
    "    if wcsinfo:\n",
    "        ax = plt.subplot(projection = wcsinfo)\n",
    "    else:\n",
    "        ax = plt.subplot()\n",
    "    \n",
    "    vmin, vmax = vrange\n",
    "    \n",
    "    if not vmin:\n",
    "        vmin = med\n",
    "    if not vmax:\n",
    "        vmax = med + 10*std\n",
    "    if not norm:\n",
    "        norm = vis.ImageNormalize(vmin = vmin, vmax = vmax, stretch = stretch)\n",
    "    im = ax.imshow(img, norm = norm, cmap = cmap)\n",
    "    if colorbar:\n",
    "        cb = plt.colorbar(im, label = cblabel, fraction =cbfrac)\n",
    "    return fig, ax, im\n",
    "KBSSpath=\"/disk/bifrost/yuanze/KBSS\"\n",
    "\n",
    "#MUSEQSO= ascii.read(KBSSpath+\"/KCWI/MUSEQSO_machine_readable_updated2.list\",format=\"ipac\")\n",
    "#museqso_path = os.path.join(KBSSpath, \"MUSEQSO\")\n",
    "#votable_file = os.path.join(\"fixed_file.xml\")"
   ]
  },
  {
   "cell_type": "code",
   "execution_count": 9,
   "id": "d93ee69f-7f00-49cd-8c56-e6502c60da89",
   "metadata": {
    "tags": []
   },
   "outputs": [
    {
     "name": "stdout",
     "output_type": "stream",
     "text": [
      " ID       Quasar          RA      ... Class found_in_folder file_count\n",
      "unit       unit          unit     ...  unit                           \n",
      "---- --------------- ------------ ... ----- --------------- ----------\n",
      "   1  SDSSJ2319-1040 23:19:34.800 ...    RQ            True          1\n",
      "   2            UM24 00:15:27.400 ...    RQ            True          1\n",
      "   3       J0525-233 05:25:06.500 ...    RL            True          1\n",
      "   4      Q-0347-383 03:49:43.700 ...    RQ            True          2\n",
      "   5  SDSSJ0817+1053 08:17:52.099 ...    RQ            True          1\n",
      "   6  SDSSJ0947+1421 09:47:34.200 ...    RQ            True          1\n",
      "   7  SDSSJ1209+1138 12:09:18.000 ...    RQ            True          1\n",
      "   8           UM683 03:36:26.900 ...    RQ            True          1\n",
      "   9      Q 0956+122 09:58:52.200 ...    RQ            True          1\n",
      "  10 SDSSJ10251+0452 10:25:09.600 ...    RQ            True          1\n",
      " ...             ...          ... ...   ...             ...        ...\n",
      "  71          CT_656   06:00:08.7 ...    RQ            True          1\n",
      "  72          ALW_11   06:43:26.9 ...    RQ            True          1\n",
      "  73     HE0940-1050   09:42:53.6 ...    RQ            True          1\n",
      "  74   BRI 1108-0747   11:11:13.7 ...    RQ            True          1\n",
      "  75      CTS_R07.04   11:13:50.1 ...    RQ            True          1\n",
      "  76      Q1317-0507   13:20:29.8 ...    RQ            True          1\n",
      "  77  QSO J1621-0042   16:21:16.7 ...    RQ            True          1\n",
      "  78      CTS_A11.09   22:53:10.7 ...    RQ            True          1\n",
      "  79     PKS1937-101   19:39:57.4 ...    RL            True          1\n",
      "  80      QB2000-330   20:03:24.1 ...    RL            True          1\n",
      "Length = 80 rows\n",
      "Updated MUSEQSO master table written to /disk/bifrost/yuanze/KBSS/MUSEQSO/MUSEQSO_machine_readable_updated.list\n"
     ]
    }
   ],
   "source": [
    "from astropy.table import Table, Column\n",
    "# Get a list of folders in the museqso_path\n",
    "folders = [f for f in os.listdir(museqso_path) if os.path.isdir(os.path.join(museqso_path, f))]\n",
    "\n",
    "\n",
    "# Create lists to store the 'found_in_folder' and 'file_count' information\n",
    "found_in_folder = []\n",
    "file_count = []\n",
    "\n",
    "# Loop through the objects in the astropy_table to check folder presence and count files\n",
    "for obj in MUSEQSO['Quasar']:\n",
    "    if obj in folders:\n",
    "        found_in_folder.append(True)\n",
    "        folder_path = os.path.join(museqso_path, obj)\n",
    "        num_files = len([f for f in os.listdir(folder_path) if os.path.isfile(os.path.join(folder_path, f))])\n",
    "        file_count.append(num_files)\n",
    "    else:\n",
    "        found_in_folder.append(False)\n",
    "        file_count.append(0)\n",
    "\n",
    "# Add the new columns to the table\n",
    "MUSEQSO.add_column(Column(name='found_in_folder', data=found_in_folder))\n",
    "MUSEQSO.add_column(Column(name='file_count', data=file_count))\n",
    "\n",
    "# Print the updated table to check the new columns\n",
    "print(MUSEQSO)\n",
    "\n",
    "# Write the updated table back to a new VOTable file\n",
    "#new_votable = from_table(astropy_table)\n",
    "#new_votable_file = os.path.join(museqso_path, \"ESO_export_updated.xml\")\n",
    "new_musetable_file=KBSSpath+\"/MUSEQSO/MUSEQSO_machine_readable_updated.list\"\n",
    "#ascii.write(MUSEQSO, KBSSpath+\"/MUSEQSO/MUSEQSO_machine_readable_updated.list\",format=\"ipac\", overwrite=True) \n",
    "\n",
    "print(f\"Updated MUSEQSO master table written to {new_musetable_file}\")"
   ]
  },
  {
   "cell_type": "code",
   "execution_count": 30,
   "id": "99c384b9-5ae5-401e-bac8-16936a8bc31e",
   "metadata": {},
   "outputs": [
    {
     "data": {
      "text/plain": [
       "XTENSION= 'IMAGE   '           / IMAGE extension                                \n",
       "BITPIX  =                  -32 / number of bits per data pixel                  \n",
       "NAXIS   =                    3 / number of data axes                            \n",
       "NAXIS1  =                  353 / length of data axis 1                          \n",
       "NAXIS2  =                  330 / length of data axis 2                          \n",
       "NAXIS3  =                 3681 / length of data axis 3                          \n",
       "PCOUNT  =                    0 / required keyword; must = 0                     \n",
       "GCOUNT  =                    1 / required keyword; must = 1                     \n",
       "EXTNAME = 'DATA    '           / This extension contains data values            \n",
       "DATASUM = '1440636081'         / data unit checksum updated 2016-05-30T11:13:35 \n",
       "HDUCLASS= 'ESO     '           / class name (ESO format)                        \n",
       "HDUDOC  = 'DICD    '           / document with class description                \n",
       "HDUVERS = 'DICD version 6'     / version number (according to spec v2.5.1)      \n",
       "HDUCLAS1= 'IMAGE   '           / Image data format                              \n",
       "HDUCLAS2= 'DATA    '           / this extension contains the data itself        \n",
       "ERRDATA = 'STAT    '           / pointer to the variance extension              \n",
       "OBJECT  = 'CTS_R07.04 (DATA)'                                                   \n",
       "BUNIT   = '10**(-20)*erg/s/cm**2/Angstrom'                                      \n",
       "CRPIX1  =     181.471044887069 / Pixel coordinate of reference point            \n",
       "CRPIX2  =     163.697850918858 / Pixel coordinate of reference point            \n",
       "CD1_1   = -5.55555555555556E-05 / Coordinate transformation matrix element      \n",
       "CD1_2   =                   0. / Coordinate transformation matrix element       \n",
       "CD2_1   =                   0. / Coordinate transformation matrix element       \n",
       "CD2_2   = 5.55555555555556E-05 / Coordinate transformation matrix element       \n",
       "CUNIT1  = 'deg     '           / Units of coordinate increment and value        \n",
       "CUNIT2  = 'deg     '           / Units of coordinate increment and value        \n",
       "CTYPE1  = 'RA---TAN'           / Right ascension, gnomonic projection           \n",
       "CTYPE2  = 'DEC--TAN'           / Declination, gnomonic projection               \n",
       "CSYER1  =    1.66499066997E-05 / [deg] Systematic error in coordinate           \n",
       "CSYER2  =    6.60827614552E-06 / [deg] Systematic error in coordinate           \n",
       "CRVAL1  =           168.459121                                                  \n",
       "CRVAL2  =            -15.56117                                                  \n",
       "CTYPE3  = 'AWAV    '                                                            \n",
       "CUNIT3  = 'Angstrom'                                                            \n",
       "CD3_3   =                 1.25                                                  \n",
       "CRPIX3  =                   1.                                                  \n",
       "CRVAL3  =     4749.76220703125                                                  \n",
       "CRDER3  =                0.026 / [Angstrom] Random error in spectral coordinate \n",
       "CD1_3   =                   0.                                                  \n",
       "CD2_3   =                   0.                                                  \n",
       "CD3_1   =                   0.                                                  \n",
       "CD3_2   =                   0.                                                  \n",
       "TITLE   = 'CTS_R07.04_200353781_2015-04-19T03:01:47.339_WFM-NOAO-N_OBJ'         "
      ]
     },
     "execution_count": 30,
     "metadata": {},
     "output_type": "execute_result"
    }
   ],
   "source": [
    "hdu0[1].header"
   ]
  },
  {
   "cell_type": "code",
   "execution_count": 154,
   "id": "8117dbc6-fc2a-417b-a298-c8bbbd156840",
   "metadata": {},
   "outputs": [
    {
     "name": "stdout",
     "output_type": "stream",
     "text": [
      "Number of directories found: 63\n"
     ]
    },
    {
     "name": "stderr",
     "output_type": "stream",
     "text": [
      "/tmp/ipykernel_1220950/2807129781.py:26: RuntimeWarning: Mean of empty slice\n",
      "  wimage = np.nanmean(hdu0[1].data[zmask[0]:zmask[1],:],axis=0)\n"
     ]
    }
   ],
   "source": [
    "import makeMask_MUSE as mmask\n",
    "reload(mmask)\n",
    "from datetime import datetime# Making white-light cutout\n",
    "root_directory = KBSSpath+\"/MUSEQSO\"\n",
    "source_table = ascii.read(root_directory+\"/MUSEQSO_machine_readable_updated2.list\",format=\"ipac\")#QSOtab=qsos[(qsos['contam']==\"False\")&(qsos['Field']!=\"Q1623\")]\n",
    "filters = [\"table['file_count'] < 2\", \"table['M_i'] > -29.6\"]\n",
    "#QSOtab=qsos[(qsos['Field']!=\"Q0142\")&(qsos['Field']!=\"Q1623\")]\n",
    "all_directories,tab = ctools.find_directories_from_ascii(source_table,root_directory,filters=filters)\n",
    "print(\"Number of directories found:\",len(all_directories))\n",
    "#gc.set_debug(gc.DEBUG_LEAK)\n",
    "\n",
    "for subdir in all_directories: \n",
    "    qname=os.path.basename(subdir)\n",
    "    srow = source_table[source_table['Quasar'] == qname]\n",
    "   # qname=\"LBQS 2139-4434\"\n",
    "    adp_file=ctools.find_adp_fits_file(subdir)\n",
    "    hdu0=fits.open(f\"{adp_file}.PSFSub.fits\")\n",
    "    hdr = hdu0[1].header\n",
    "    wc = (np.arange(hdr['NAXIS3']) - hdr['CRPIX3'] + 1) * hdr['CD3_3'] + hdr['CRVAL3']\n",
    "    #NSubfile = adp_prefix+\".PSFSub.fits\"\n",
    "    #zmask = np.loadtxt(subdir+\"/zmask.txt\").astype(np.int64)\n",
    "    zmask = mmask.determine_mask(wc,\"continuum\", srow['z_Lyaneb'])\n",
    "    psfcen = np.loadtxt(subdir+\"/psfcen.txt\").astype(np.int64)\n",
    "    xpix = psfcen[0,1]\n",
    "    ypix = psfcen[0,2]\n",
    "    wimage = np.nanmean(hdu0[1].data[zmask[0]:zmask[1],:],axis=0)\n",
    "    \n",
    "    header = fits.Header()\n",
    "    header['DATE'] = datetime.now().strftime('%Y-%m-%dT%H:%M:%S')\n",
    "    header['CREATOR'] = 'Yuanze Ding'\n",
    "    header['COMMENT'] = 'White-light cutout from 3D data cube'\n",
    "    header['YSOURCE'] = ypix\n",
    "    header['XSOURCE'] = xpix\n",
    "    header['OBJECT'] = qname\n",
    "    # Extract WCS information from the original header\n",
    "    wcs_keys = ['CTYPE1', 'CTYPE2', 'CRVAL1', 'CRVAL2', 'CRPIX1', 'CRPIX2', 'CDELT1', 'CDELT2', 'CUNIT1', 'CUNIT2', 'CD1_1', 'CD1_2', 'CD2_1', 'CD2_2']\n",
    "    for key in wcs_keys:\n",
    "        if key in hdr:\n",
    "            header[key] = hdr[key]\n",
    "            \n",
    "    \n",
    "    hdu = fits.PrimaryHDU(wimage,header=header)\n",
    "    hdulist = fits.HDUList([hdu])\n",
    "    output_fn = f\"{adp_file}.white.fits\"\n",
    "    hdulist.writeto(output_fn, overwrite=True)\n",
    "#hdu2=fits.open(KBSSpath+\"/MUSEQSO/Q-0347-383/ADP.2016-06-02T13:21:57.103.fits\")"
   ]
  },
  {
   "cell_type": "code",
   "execution_count": 9,
   "id": "fee211a3-fbd8-4ff7-b50b-38463b434f2b",
   "metadata": {},
   "outputs": [
    {
     "name": "stderr",
     "output_type": "stream",
     "text": [
      "No GPU/TPU found, falling back to CPU. (Set TF_CPP_MIN_LOG_LEVEL=0 and rerun for more info.)\n"
     ]
    },
    {
     "data": {
      "text/plain": [
       "<module 'images' from '/disk/bifrost/yuanze/software/GalfitS/src/images.py'>"
      ]
     },
     "execution_count": 9,
     "metadata": {},
     "output_type": "execute_result"
    }
   ],
   "source": [
    "sys.path.append('/disk/bifrost/yuanze/software/GalfitS/src')\n",
    "os.environ[\"CUDA_VISIBLE_DEVICES\"] = \"0\"\n",
    "os.environ[\"XLA_PYTHON_CLIENT_PREALLOCATE\"] = \"false\"\n",
    "import images as IM\n",
    "reload(IM)"
   ]
  },
  {
   "cell_type": "code",
   "execution_count": 12,
   "id": "e7d7a561-b756-4e91-8f45-5ee18fba069f",
   "metadata": {
    "tags": []
   },
   "outputs": [],
   "source": [
    "def write_fits_cube(data,header_ref, outputname):\n",
    "    #wcs_keys = [\"XSOURCE\",\"YSOURCE\",\"OBJECT\",'CTYPE1',\\\n",
    "    #            'CTYPE2', 'CRVAL1','CRVAL2', 'CRPIX1',\\\n",
    "    #            'CRPIX2', 'CDELT1', 'CDELT2', 'CUNIT1',\\\n",
    "     #           'CUNIT2', 'CD1_1', 'CD1_2', 'CD2_1', 'CD2_2']\n",
    "    #for key in wcs_keys:\n",
    "        #if key in header:\n",
    "            #header[key] = header_ref[key]\n",
    "    primary = fits.PrimaryHDU(data, header=header_ref)\n",
    "    #hdu_var = fits.ImageHDU(np.float32(variance), header=header)\n",
    "    #hdu_temp = fits.ImageHDU(data, header=header)\n",
    "#        hdu_temp2 = fits.ImageHDU(np.float32(self.cut_mask_image))\n",
    "#        hdu_temp3 = fits.ImageHDU(np.float32(self.cut_sigma_image))\n",
    "    hdul = fits.HDUList([primary])\n",
    "#    print(hdul[0].header)\n",
    "    hdul.writeto(outputname, overwrite=True)\n",
    "    return 0\n",
    "def maskplot(data,mask,output=None,center=None):\n",
    "    from astropy.visualization.mpl_normalize import simple_norm\n",
    "    sky_mean, sky_median, sky_std = sigma_clipped_stats(data, sigma=3, maxiters=5)\n",
    "    norm = simple_norm([sky_std, 10*sky_std], 'linear', percent=99.5)\n",
    "    fig, ax = plt.subplots(figsize=(3,3),dpi=300)\n",
    "    ax.imshow(data-sky_median,origin='lower',cmap='gray_r',norm=norm)\n",
    "    #plt.imshow(img.cut_sigma_image,origin='lower',cmap='gray_r')\n",
    "    ax.imshow(mask,origin='lower',cmap='Blues',alpha=mask.astype(float)*0.7)\n",
    "    if center is not None:\n",
    "        ax.plot(center[1],center[0],\"+\",c=\"r\",ms=10,lw=0.01)\n",
    "    if output is not None:\n",
    "        fig.savefig(output,dpi=300)\n",
    "    plt.close()\n",
    "    return 0\n",
    "def create_circular_mask(shape, center, radius):\n",
    "    # Create grid of coordinates\n",
    "    Y, X = np.ogrid[:shape[0], :shape[1]]\n",
    "    \n",
    "    # Calculate distance from the center\n",
    "    dist_from_center = np.sqrt((X - center[1])**2 + (Y - center[0])**2)\n",
    "    \n",
    "    # Create mask\n",
    "    mask = dist_from_center <= radius\n",
    "    return mask"
   ]
  },
  {
   "cell_type": "code",
   "execution_count": 14,
   "id": "b9487f33-5da6-4028-b1f7-9768f080f036",
   "metadata": {
    "tags": []
   },
   "outputs": [
    {
     "name": "stdout",
     "output_type": "stream",
     "text": [
      "Number of directories found: 15\n",
      "3.8641666666666663 6.67\n",
      "151.677359535054 159.70674938232614\n"
     ]
    },
    {
     "name": "stderr",
     "output_type": "stream",
     "text": [
      "WARNING: Input data contains invalid values (NaNs or infs), which were automatically clipped. [astropy.stats.sigma_clipping]\n",
      "WARNING: Input data contains invalid values (NaNs or infs), which were automatically clipped. [astropy.stats.sigma_clipping]\n",
      "WARNING: Input data contains invalid values (NaNs or infs), which were automatically clipped. [astropy.stats.sigma_clipping]\n",
      "WARNING: Input data contains invalid values (NaNs or infs), which were automatically clipped. [astropy.stats.sigma_clipping]\n"
     ]
    },
    {
     "name": "stdout",
     "output_type": "stream",
     "text": [
      "146.89249999999996 14.354722222222222\n",
      "159.34517664849125 156.9720176185852\n"
     ]
    },
    {
     "name": "stderr",
     "output_type": "stream",
     "text": [
      "WARNING: Input data contains invalid values (NaNs or infs), which were automatically clipped. [astropy.stats.sigma_clipping]\n",
      "WARNING: Input data contains invalid values (NaNs or infs), which were automatically clipped. [astropy.stats.sigma_clipping]\n",
      "WARNING: Input data contains invalid values (NaNs or infs), which were automatically clipped. [astropy.stats.sigma_clipping]\n"
     ]
    },
    {
     "name": "stdout",
     "output_type": "stream",
     "text": [
      "149.71749999999997 12.045833333333333\n",
      "184.96413254851058 186.8192626002706\n"
     ]
    },
    {
     "name": "stderr",
     "output_type": "stream",
     "text": [
      "WARNING: Input data contains invalid values (NaNs or infs), which were automatically clipped. [astropy.stats.sigma_clipping]\n",
      "WARNING: Input data contains invalid values (NaNs or infs), which were automatically clipped. [astropy.stats.sigma_clipping]\n",
      "WARNING: Input data contains invalid values (NaNs or infs), which were automatically clipped. [astropy.stats.sigma_clipping]\n"
     ]
    },
    {
     "name": "stdout",
     "output_type": "stream",
     "text": [
      "196.7925 12.505833333333333\n",
      "173.60206471018805 139.0421391293419\n"
     ]
    },
    {
     "name": "stderr",
     "output_type": "stream",
     "text": [
      "WARNING: Input data contains invalid values (NaNs or infs), which were automatically clipped. [astropy.stats.sigma_clipping]\n",
      "WARNING: Input data contains invalid values (NaNs or infs), which were automatically clipped. [astropy.stats.sigma_clipping]\n",
      "WARNING: Input data contains invalid values (NaNs or infs), which were automatically clipped. [astropy.stats.sigma_clipping]\n",
      "WARNING: Input data contains invalid values (NaNs or infs), which were automatically clipped. [astropy.stats.sigma_clipping]\n"
     ]
    },
    {
     "name": "stdout",
     "output_type": "stream",
     "text": [
      "331.8929166666666 -40.615833333333335\n",
      "171.1117040451304 147.2649622175369\n"
     ]
    },
    {
     "name": "stderr",
     "output_type": "stream",
     "text": [
      "WARNING: Input data contains invalid values (NaNs or infs), which were automatically clipped. [astropy.stats.sigma_clipping]\n",
      "WARNING: Input data contains invalid values (NaNs or infs), which were automatically clipped. [astropy.stats.sigma_clipping]\n",
      "WARNING: Input data contains invalid values (NaNs or infs), which were automatically clipped. [astropy.stats.sigma_clipping]\n",
      "WARNING: Input data contains invalid values (NaNs or infs), which were automatically clipped. [astropy.stats.sigma_clipping]\n"
     ]
    },
    {
     "name": "stdout",
     "output_type": "stream",
     "text": [
      "359.5355833333333 1.4186666666666667\n",
      "175.08218964734095 142.46916981172006\n"
     ]
    },
    {
     "name": "stderr",
     "output_type": "stream",
     "text": [
      "WARNING: Input data contains invalid values (NaNs or infs), which were automatically clipped. [astropy.stats.sigma_clipping]\n",
      "WARNING: Input data contains invalid values (NaNs or infs), which were automatically clipped. [astropy.stats.sigma_clipping]\n",
      "WARNING: Input data contains invalid values (NaNs or infs), which were automatically clipped. [astropy.stats.sigma_clipping]\n",
      "WARNING: Input data contains invalid values (NaNs or infs), which were automatically clipped. [astropy.stats.sigma_clipping]\n"
     ]
    },
    {
     "name": "stdout",
     "output_type": "stream",
     "text": [
      "10.380833333333332 -49.60330555555556\n",
      "350.44785359809697 349.58060175432917\n"
     ]
    },
    {
     "name": "stderr",
     "output_type": "stream",
     "text": [
      "WARNING: Input data contains invalid values (NaNs or infs), which were automatically clipped. [astropy.stats.sigma_clipping]\n",
      "WARNING: Input data contains invalid values (NaNs or infs), which were automatically clipped. [astropy.stats.sigma_clipping]\n",
      "WARNING: Input data contains invalid values (NaNs or infs), which were automatically clipped. [astropy.stats.sigma_clipping]\n"
     ]
    },
    {
     "name": "stdout",
     "output_type": "stream",
     "text": [
      "14.492083333333332 -26.721055555555555\n",
      "209.69073269068093 212.67857363618873\n"
     ]
    },
    {
     "name": "stderr",
     "output_type": "stream",
     "text": [
      "WARNING: Input data contains invalid values (NaNs or infs), which were automatically clipped. [astropy.stats.sigma_clipping]\n",
      "WARNING: Input data contains invalid values (NaNs or infs), which were automatically clipped. [astropy.stats.sigma_clipping]\n",
      "WARNING: Input data contains invalid values (NaNs or infs), which were automatically clipped. [astropy.stats.sigma_clipping]\n",
      "WARNING: Input data contains invalid values (NaNs or infs), which were automatically clipped. [astropy.stats.sigma_clipping]\n"
     ]
    },
    {
     "name": "stdout",
     "output_type": "stream",
     "text": [
      "90.03362499999999 -50.67688888888889\n",
      "193.33475415723603 127.812952594774\n"
     ]
    },
    {
     "name": "stderr",
     "output_type": "stream",
     "text": [
      "WARNING: Input data contains invalid values (NaNs or infs), which were automatically clipped. [astropy.stats.sigma_clipping]\n",
      "WARNING: Input data contains invalid values (NaNs or infs), which were automatically clipped. [astropy.stats.sigma_clipping]\n",
      "WARNING: Input data contains invalid values (NaNs or infs), which were automatically clipped. [astropy.stats.sigma_clipping]\n",
      "WARNING: Input data contains invalid values (NaNs or infs), which were automatically clipped. [astropy.stats.sigma_clipping]\n"
     ]
    },
    {
     "name": "stdout",
     "output_type": "stream",
     "text": [
      "145.7233333333333 -11.073888888888888\n",
      "180.96051274304253 162.72300344787203\n"
     ]
    },
    {
     "name": "stderr",
     "output_type": "stream",
     "text": [
      "WARNING: Input data contains invalid values (NaNs or infs), which were automatically clipped. [astropy.stats.sigma_clipping]\n",
      "WARNING: Input data contains invalid values (NaNs or infs), which were automatically clipped. [astropy.stats.sigma_clipping]\n",
      "WARNING: Input data contains invalid values (NaNs or infs), which were automatically clipped. [astropy.stats.sigma_clipping]\n"
     ]
    },
    {
     "name": "stdout",
     "output_type": "stream",
     "text": [
      "168.4608333333333 -15.559166666666668\n",
      "151.77854864670837 199.75773192025994\n"
     ]
    },
    {
     "name": "stderr",
     "output_type": "stream",
     "text": [
      "WARNING: Input data contains invalid values (NaNs or infs), which were automatically clipped. [astropy.stats.sigma_clipping]\n",
      "WARNING: Input data contains invalid values (NaNs or infs), which were automatically clipped. [astropy.stats.sigma_clipping]\n",
      "WARNING: Input data contains invalid values (NaNs or infs), which were automatically clipped. [astropy.stats.sigma_clipping]\n",
      "WARNING: Input data contains invalid values (NaNs or infs), which were automatically clipped. [astropy.stats.sigma_clipping]\n"
     ]
    },
    {
     "name": "stdout",
     "output_type": "stream",
     "text": [
      "200.12416666666664 -5.392833333333334\n",
      "187.93167674090714 168.3865110662362\n"
     ]
    },
    {
     "name": "stderr",
     "output_type": "stream",
     "text": [
      "WARNING: Input data contains invalid values (NaNs or infs), which were automatically clipped. [astropy.stats.sigma_clipping]\n",
      "WARNING: Input data contains invalid values (NaNs or infs), which were automatically clipped. [astropy.stats.sigma_clipping]\n",
      "WARNING: Input data contains invalid values (NaNs or infs), which were automatically clipped. [astropy.stats.sigma_clipping]\n"
     ]
    },
    {
     "name": "stdout",
     "output_type": "stream",
     "text": [
      "245.3195833333333 -0.7133888888888889\n",
      "201.73852898327644 182.55113731534377\n"
     ]
    },
    {
     "name": "stderr",
     "output_type": "stream",
     "text": [
      "WARNING: Input data contains invalid values (NaNs or infs), which were automatically clipped. [astropy.stats.sigma_clipping]\n",
      "WARNING: Input data contains invalid values (NaNs or infs), which were automatically clipped. [astropy.stats.sigma_clipping]\n",
      "WARNING: Input data contains invalid values (NaNs or infs), which were automatically clipped. [astropy.stats.sigma_clipping]\n",
      "WARNING: Input data contains invalid values (NaNs or infs), which were automatically clipped. [astropy.stats.sigma_clipping]\n"
     ]
    },
    {
     "name": "stdout",
     "output_type": "stream",
     "text": [
      "294.9891666666666 -10.044416666666667\n",
      "175.70716572971835 174.46204698019702\n"
     ]
    },
    {
     "name": "stderr",
     "output_type": "stream",
     "text": [
      "WARNING: Input data contains invalid values (NaNs or infs), which were automatically clipped. [astropy.stats.sigma_clipping]\n",
      "WARNING: Input data contains invalid values (NaNs or infs), which were automatically clipped. [astropy.stats.sigma_clipping]\n",
      "WARNING: Input data contains invalid values (NaNs or infs), which were automatically clipped. [astropy.stats.sigma_clipping]\n"
     ]
    },
    {
     "name": "stdout",
     "output_type": "stream",
     "text": [
      "300.85041666666666 -32.86275\n",
      "222.2995955159318 220.2122899907279\n"
     ]
    },
    {
     "name": "stderr",
     "output_type": "stream",
     "text": [
      "WARNING: Input data contains invalid values (NaNs or infs), which were automatically clipped. [astropy.stats.sigma_clipping]\n",
      "WARNING: Input data contains invalid values (NaNs or infs), which were automatically clipped. [astropy.stats.sigma_clipping]\n",
      "WARNING: Input data contains invalid values (NaNs or infs), which were automatically clipped. [astropy.stats.sigma_clipping]\n",
      "WARNING: Input data contains invalid values (NaNs or infs), which were automatically clipped. [astropy.stats.sigma_clipping]\n"
     ]
    }
   ],
   "source": [
    "root_directory = KBSSpath+\"/MUSEQSO\"\n",
    "source_table = ascii.read(root_directory+\"/MUSEQSO_machine_readable_updated2.list\",format=\"ipac\")#QSOtab=qsos[(qsos['contam']==\"False\")&(qsos['Field']!=\"Q1623\")]\n",
    "filters = [\"table['file_count'] < 2\", \"table['M_i'] < -29.6\"]\n",
    "#QSOtab=qsos[(qsos['Field']!=\"Q0142\")&(qsos['Field']!=\"Q1623\")]\n",
    "all_directories,tab = ctools.find_directories_from_ascii(source_table,root_directory,filters=filters)\n",
    "print(\"Number of directories found:\",len(all_directories))\n",
    "#gc.set_debug(gc.DEBUG_LEAK)\n",
    "cutr=30 # arcsec cut image size on each sides\n",
    "for subdir in all_directories: \n",
    "    quasar_name=os.path.basename(subdir)\n",
    "    source_row = source_table[source_table['Quasar'] == quasar_name]\n",
    "    ra = source_row['RA'][0]\n",
    "    dec = source_row['Decl'][0]\n",
    "    sc= SkyCoord(ra,dec,unit=(u.hourangle,u.deg))\n",
    "   # qname=\"LBQS 2139-4434\"\n",
    "    adp_file=ctools.find_adp_fits_file(subdir)\n",
    "    fname=f\"{adp_file}.white.fits\"\n",
    "    img = IM.image(fname,hdu=0,unit=u.Jy)\n",
    "    psfcen = np.loadtxt(subdir+\"/psfcen.txt\").astype(np.int64)\n",
    "    xpix = psfcen[0,1]\n",
    "    ypix = psfcen[0,2]\n",
    "    center = [ypix,xpix]\n",
    "    imcut, cp = img.img_cut(sc.ra.value,sc.dec.value,cutr)\n",
    "    img.sources_skycord_cut = [xpix,ypix]\n",
    "    #img.cut_mask_image = np.zeros_like(img.cut_sigma_image)\n",
    "    sdmask = create_circular_mask(img.data.shape, center, 17)\n",
    "    img.cut_mask_image = img.generate_cutmask(6,nsigma=3,sdmask=sdmask,data = img.data.data,deblend=True,addgrow=1,nlevels=32,source_dia=20,contrast=0.01)\n",
    "    \n",
    "    maskplot(img.data.data,img.cut_mask_image,output=root_directory+\"/diagnostic/\"+quasar_name+\"_maskmap.pdf\",center=center)\n",
    "    write_fits_cube(img.cut_mask_image.astype(np.int32),img.data.header,f\"{adp_file}.mask.fits\")\n",
    "    #NSubfile = adp_prefix+\".PSFSub.fits\"\n",
    "    #zmask = np.loadtxt(subdir+\"/zmask.txt\",dtype=int)\n",
    "    \n",
    "    \n",
    "    "
   ]
  },
  {
   "cell_type": "code",
   "execution_count": 11,
   "id": "3550010c-204a-423f-8630-168b364f70dc",
   "metadata": {},
   "outputs": [
    {
     "data": {
      "text/plain": [
       "SIMPLE  =                    T / conforms to FITS standard                      \n",
       "BITPIX  =                  -32 / array data type                                \n",
       "NAXIS   =                    2 / number of array dimensions                     \n",
       "NAXIS1  =                  318                                                  \n",
       "NAXIS2  =                  315                                                  \n",
       "DATE    = '2024-06-28T00:23:27'                                                 \n",
       "CREATOR = 'Yuanze Ding'                                                         \n",
       "YSOURCE =                  158                                                  \n",
       "XSOURCE =                  161                                                  \n",
       "OBJECT  = 'SDSSJ2319-1040'                                                      \n",
       "CTYPE1  = 'RA---TAN'                                                            \n",
       "CTYPE2  = 'DEC--TAN'                                                            \n",
       "CRVAL1  =           349.895046                                                  \n",
       "CRVAL2  =            -10.67659                                                  \n",
       "CRPIX1  =       160.3192777624                                                  \n",
       "CRPIX2  =       156.8015221421                                                  \n",
       "CUNIT1  = 'deg     '                                                            \n",
       "CUNIT2  = 'deg     '                                                            \n",
       "CD1_1   =  -5.555555555556E-05                                                  \n",
       "CD1_2   =                  0.0                                                  \n",
       "CD2_1   =                  0.0                                                  \n",
       "CD2_2   =   5.555555555556E-05                                                  \n",
       "COMMENT White-light cutout from 3D data cube                                    "
      ]
     },
     "execution_count": 11,
     "metadata": {},
     "output_type": "execute_result"
    }
   ],
   "source": [
    "img.data.header"
   ]
  },
  {
   "cell_type": "code",
   "execution_count": 125,
   "id": "a0a15cbf-72c5-4ffa-961b-5597bcb6c9c0",
   "metadata": {},
   "outputs": [
    {
     "data": {
      "text/plain": [
       "[216, 226]"
      ]
     },
     "execution_count": 125,
     "metadata": {},
     "output_type": "execute_result"
    }
   ],
   "source": [
    "img.sources_skycord_cut"
   ]
  },
  {
   "cell_type": "code",
   "execution_count": 126,
   "id": "4f784b5b-6b74-4c9e-95d7-acfd06aa2b7e",
   "metadata": {},
   "outputs": [
    {
     "data": {
      "text/plain": [
       "['/disk/bifrost/yuanze/KBSS/MUSEQSO/UM24',\n",
       " '/disk/bifrost/yuanze/KBSS/MUSEQSO/SDSSJ0947+1421',\n",
       " '/disk/bifrost/yuanze/KBSS/MUSEQSO/Q 0956+122',\n",
       " '/disk/bifrost/yuanze/KBSS/MUSEQSO/SDSSJ1307+1230',\n",
       " '/disk/bifrost/yuanze/KBSS/MUSEQSO/Q-2204-408',\n",
       " '/disk/bifrost/yuanze/KBSS/MUSEQSO/Q2355+0108',\n",
       " '/disk/bifrost/yuanze/KBSS/MUSEQSO/CTS_G18.01',\n",
       " '/disk/bifrost/yuanze/KBSS/MUSEQSO/Q0055-269',\n",
       " '/disk/bifrost/yuanze/KBSS/MUSEQSO/CT_656',\n",
       " '/disk/bifrost/yuanze/KBSS/MUSEQSO/HE0940-1050',\n",
       " '/disk/bifrost/yuanze/KBSS/MUSEQSO/CTS_R07.04',\n",
       " '/disk/bifrost/yuanze/KBSS/MUSEQSO/Q1317-0507',\n",
       " '/disk/bifrost/yuanze/KBSS/MUSEQSO/QSO J1621-0042',\n",
       " '/disk/bifrost/yuanze/KBSS/MUSEQSO/PKS1937-101',\n",
       " '/disk/bifrost/yuanze/KBSS/MUSEQSO/QB2000-330']"
      ]
     },
     "execution_count": 126,
     "metadata": {},
     "output_type": "execute_result"
    }
   ],
   "source": [
    "all_directories"
   ]
  },
  {
   "cell_type": "code",
   "execution_count": 140,
   "id": "9578cd65-0b3d-4621-a19a-e735117d47dc",
   "metadata": {},
   "outputs": [],
   "source": [
    "fitsmask=fits.open(f\"{adp_file}.mask.fits\")[0].data"
   ]
  },
  {
   "cell_type": "code",
   "execution_count": null,
   "id": "4628a3af-6c7a-4877-9b7d-6230615ee8da",
   "metadata": {},
   "outputs": [],
   "source": [
    "mask_3d=np.zeros((3631,449,454),dtype=bool)\n",
    "for i in range(mask_3d.shape[0]):\n",
    "    mask_3d[i,:,:]=np.bitwise_or(mask_3d[i,:,:],fitsmask)"
   ]
  },
  {
   "cell_type": "code",
   "execution_count": 152,
   "id": "2568e848-67f4-41a5-a85c-840ea85aed28",
   "metadata": {},
   "outputs": [],
   "source": [
    "from astropy import cosmology"
   ]
  },
  {
   "cell_type": "code",
   "execution_count": 153,
   "id": "70014b57-96d1-4c79-a6ab-b9719f6743e3",
   "metadata": {},
   "outputs": [
    {
     "data": {
      "text/plain": [
       "['/disk/bifrost/yuanze/KBSS/MUSEQSO/UM24',\n",
       " '/disk/bifrost/yuanze/KBSS/MUSEQSO/SDSSJ0947+1421',\n",
       " '/disk/bifrost/yuanze/KBSS/MUSEQSO/Q 0956+122',\n",
       " '/disk/bifrost/yuanze/KBSS/MUSEQSO/SDSSJ1307+1230',\n",
       " '/disk/bifrost/yuanze/KBSS/MUSEQSO/Q-2204-408',\n",
       " '/disk/bifrost/yuanze/KBSS/MUSEQSO/Q2355+0108',\n",
       " '/disk/bifrost/yuanze/KBSS/MUSEQSO/CTS_G18.01',\n",
       " '/disk/bifrost/yuanze/KBSS/MUSEQSO/Q0055-269',\n",
       " '/disk/bifrost/yuanze/KBSS/MUSEQSO/CT_656',\n",
       " '/disk/bifrost/yuanze/KBSS/MUSEQSO/HE0940-1050',\n",
       " '/disk/bifrost/yuanze/KBSS/MUSEQSO/CTS_R07.04',\n",
       " '/disk/bifrost/yuanze/KBSS/MUSEQSO/Q1317-0507',\n",
       " '/disk/bifrost/yuanze/KBSS/MUSEQSO/QSO J1621-0042',\n",
       " '/disk/bifrost/yuanze/KBSS/MUSEQSO/PKS1937-101',\n",
       " '/disk/bifrost/yuanze/KBSS/MUSEQSO/QB2000-330']"
      ]
     },
     "execution_count": 153,
     "metadata": {},
     "output_type": "execute_result"
    }
   ],
   "source": [
    "all_directories"
   ]
  },
  {
   "cell_type": "code",
   "execution_count": null,
   "id": "f80cd357-0345-4f2a-8247-aca93e10b751",
   "metadata": {},
   "outputs": [],
   "source": []
  }
 ],
 "metadata": {
  "kernelspec": {
   "display_name": "Python (nmma)",
   "language": "python",
   "name": "nmma"
  },
  "language_info": {
   "codemirror_mode": {
    "name": "ipython",
    "version": 3
   },
   "file_extension": ".py",
   "mimetype": "text/x-python",
   "name": "python",
   "nbconvert_exporter": "python",
   "pygments_lexer": "ipython3",
   "version": "3.8.17"
  }
 },
 "nbformat": 4,
 "nbformat_minor": 5
}
