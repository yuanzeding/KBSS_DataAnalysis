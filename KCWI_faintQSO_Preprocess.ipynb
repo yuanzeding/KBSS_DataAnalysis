{
 "cells": [
  {
   "cell_type": "code",
   "execution_count": 16,
   "id": "537949fc-896c-4e5d-b2ce-812022504998",
   "metadata": {},
   "outputs": [],
   "source": [
    "%matplotlib inline\n",
    "import re\n",
    "import numpy as np\n",
    "import matplotlib.pyplot as plt\n",
    "import matplotlib.gridspec as gridspec\n",
    "import matplotlib as mpl\n",
    "from matplotlib.colors import SymLogNorm\n",
    "import scienceplots\n",
    "\n",
    "import astropy.units as u\n",
    "from astropy import constants\n",
    "from astropy.table import Table\n",
    "from astropy.coordinates import SkyCoord,FK5,ICRS\n",
    "from astropy.io import fits,ascii\n",
    "from astropy.wcs import WCS, utils as wcsutils\n",
    "from astropy.stats import sigma_clipped_stats\n",
    "import astropy.visualization as vis\n",
    "from astropy.modeling import models, fitting\n",
    "from astropy.nddata import StdDevUncertainty, Cutout2D\n",
    "from astropy.convolution import Gaussian2DKernel,Gaussian1DKernel\n",
    "from astropy.cosmology import Planck18\n",
    "from scipy.signal import find_peaks\n",
    "#from scipy.constants import c\n",
    "\n",
    "\n",
    "\n",
    "from photutils.aperture import EllipticalAperture, SkyEllipticalAperture\n",
    "\n",
    "import os, sys, glob, pdb, scipy\n",
    "\n",
    "from importlib import reload\n",
    "import pyregion as pyreg\n",
    "from spectral_cube import SpectralCube\n",
    "from reproject import reproject_interp\n",
    "import regions\n",
    "from regions.shapes.circle import CircleSkyRegion,CirclePixelRegion\n",
    "from regions import CircleAnnulusSkyRegion, CircleAnnulusPixelRegion, RectangleSkyRegion\n",
    "from regions import PixCoord\n",
    "sys.path.append('/disk/bifrost/yuanze/KBSS/MUSEQSO/scripts')\n",
    "sys.path.append('/disk/bifrost/yuanze/KBSS/CubEx_run/scripts')\n",
    "import run_cubetools_v1 as ctools\n",
    "import makeMask_MUSE as mmask\n",
    "reload(ctools)\n",
    "reload(mmask)\n",
    "sys.path.append('/disk/bifrost/yuanze/software/GalfitS/src')\n",
    "os.environ[\"CUDA_VISIBLE_DEVICES\"] = \"0\"\n",
    "os.environ[\"XLA_PYTHON_CLIENT_PREALLOCATE\"] = \"false\"\n",
    "import images as IM\n",
    "import sed_interp\n",
    "reload(IM)\n",
    "\n",
    "brightu = r\"Brightness $\\rm (10^{-4}~erg~s^{-1}~arcsec^{-2}~cm^{-2}~\\AA^{-1})$\"\n",
    "def imshow_astro(img, wcsinfo = None, figsize = (10,10), colorbar =True,\n",
    "               cblabel=\"\", cbfrac = 0.035, norm = None,\n",
    "               stretch = vis.LinearStretch(), cmap = \"hot\",\n",
    "               vrange = (None, None)):\n",
    "    \n",
    "    _, med, std = sigma_clipped_stats(img.data)\n",
    "    \n",
    "    fig =  plt.figure(figsize = figsize)\n",
    "    if wcsinfo:\n",
    "        ax = plt.subplot(projection = wcsinfo)\n",
    "    else:\n",
    "        ax = plt.subplot()\n",
    "    \n",
    "    vmin, vmax = vrange\n",
    "    \n",
    "    if not vmin:\n",
    "        vmin = med\n",
    "    if not vmax:\n",
    "        vmax = med + 10*std\n",
    "    if not norm:\n",
    "        norm = vis.ImageNormalize(vmin = vmin, vmax = vmax, stretch = stretch)\n",
    "    im = ax.imshow(img, norm = norm, cmap = cmap)\n",
    "    if colorbar:\n",
    "        cb = plt.colorbar(im, label = cblabel, fraction =cbfrac)\n",
    "    return fig, ax, im\n",
    "KBSSpath=\"/disk/bifrost/yuanze/KBSS\"\n",
    "source_table = ascii.read(KBSSpath+\"/KCWI/KBSS_faint_AGN.list\",format=\"ipac\")\n",
    "\n",
    "#MUSEQSO= ascii.read(KBSSpath+\"/KCWI/MUSEQSO_machine_readable_updated2.list\",format=\"ipac\")\n",
    "#museqso_path = os.path.join(KBSSpath, \"MUSEQSO\")\n",
    "#votable_file = os.path.join(\"fixed_file.xml\")"
   ]
  },
  {
   "cell_type": "code",
   "execution_count": 33,
   "id": "6cef8a40-1dbb-47e9-8dbe-2e0c0bb23aa5",
   "metadata": {},
   "outputs": [
    {
     "name": "stdout",
     "output_type": "stream",
     "text": [
      "writing: /disk/bifrost/yuanze/KBSS/Q0100/BX160/kcwib/Q0100-BX160_icubes.PSFSub.white.fits\n",
      "writing: /disk/bifrost/yuanze/KBSS/Q0100/BX160/kcwib/Q0100-BX160_icubes.whitevar.fits\n",
      "writing: /disk/bifrost/yuanze/KBSS/Q0100/BX164/kcwib/Q0100-BX164_icubes.PSFSub.white.fits\n",
      "writing: /disk/bifrost/yuanze/KBSS/Q0100/BX164/kcwib/Q0100-BX164_icubes.whitevar.fits\n",
      "writing: /disk/bifrost/yuanze/KBSS/Q0105/BX58/kcwib/Q0105-BX58_icubes.PSFSub.white.fits\n",
      "writing: /disk/bifrost/yuanze/KBSS/Q0105/BX58/kcwib/Q0105-BX58_icubes.whitevar.fits\n",
      "writing: /disk/bifrost/yuanze/KBSS/Q0207/D9/kcwib/Q0207-D9_icubes.PSFSub.white.fits\n",
      "writing: /disk/bifrost/yuanze/KBSS/Q0207/D9/kcwib/Q0207-D9_icubes.whitevar.fits\n",
      "writing: /disk/bifrost/yuanze/KBSS/Q0256/C31/kcwib/Q0256-C31_icubes.PSFSub.white.fits\n",
      "writing: /disk/bifrost/yuanze/KBSS/Q0256/C31/kcwib/Q0256-C31_icubes.whitevar.fits\n",
      "writing: /disk/bifrost/yuanze/KBSS/Q0821/RK5/kcwib/Q0821-RK5_icubes.PSFSub.white.fits\n",
      "writing: /disk/bifrost/yuanze/KBSS/Q0821/RK5/kcwib/Q0821-RK5_icubes.whitevar.fits\n",
      "writing: /disk/bifrost/yuanze/KBSS/Q1549/BX101/kcwib/Q1549-BX101_icubes.PSFSub.white.fits\n",
      "writing: /disk/bifrost/yuanze/KBSS/Q1549/BX101/kcwib/Q1549-BX101_icubes.whitevar.fits\n",
      "writing: /disk/bifrost/yuanze/KBSS/Q1549/GNB4950/kcwib/Q1549-GNB4950_icubes.PSFSub.white.fits\n",
      "writing: /disk/bifrost/yuanze/KBSS/Q1549/GNB4950/kcwib/Q1549-GNB4950_icubes.whitevar.fits\n",
      "writing: /disk/bifrost/yuanze/KBSS/Q1549/MD10/kcwib/Q1549-MD10_icubes.PSFSub.white.fits\n",
      "writing: /disk/bifrost/yuanze/KBSS/Q1549/MD10/kcwib/Q1549-MD10_icubes.whitevar.fits\n",
      "writing: /disk/bifrost/yuanze/KBSS/Q1549/MD17/kcwib/Q1549-MD17_icubes.PSFSub.white.fits\n",
      "writing: /disk/bifrost/yuanze/KBSS/Q1549/MD17/kcwib/Q1549-MD17_icubes.whitevar.fits\n",
      "writing: /disk/bifrost/yuanze/KBSS/Q2233/D5/kcwib/Q2233-D5_icubes.PSFSub.white.fits\n",
      "writing: /disk/bifrost/yuanze/KBSS/Q2233/D5/kcwib/Q2233-D5_icubes.whitevar.fits\n",
      "writing: /disk/bifrost/yuanze/KBSS/Q2343/C28/kcwib/Q2343-C28_icubes.PSFSub.white.fits\n",
      "writing: /disk/bifrost/yuanze/KBSS/Q2343/C28/kcwib/Q2343-C28_icubes.whitevar.fits\n",
      "writing: /disk/bifrost/yuanze/KBSS/Q2343/MD77/kcwib/Q2343-MD77_icubes.PSFSub.white.fits\n",
      "writing: /disk/bifrost/yuanze/KBSS/Q2343/MD77/kcwib/Q2343-MD77_icubes.whitevar.fits\n",
      "writing: /disk/bifrost/yuanze/KBSS/DSF2237b/D1/kcwib/DSF2237b-D1_icubes.PSFSub.white.fits\n",
      "writing: /disk/bifrost/yuanze/KBSS/DSF2237b/D1/kcwib/DSF2237b-D1_icubes.whitevar.fits\n",
      "writing: /disk/bifrost/yuanze/KBSS/LyC22/AGN_2223/kcwib/LyC22-AGN_2223_icubes.PSFSub.white.fits\n",
      "writing: /disk/bifrost/yuanze/KBSS/LyC22/AGN_2223/kcwib/LyC22-AGN_2223_icubes.whitevar.fits\n",
      "writing: /disk/bifrost/yuanze/KBSS/LyC22/M15/kcwib/LyC22-M15_icubes.PSFSub.white.fits\n",
      "writing: /disk/bifrost/yuanze/KBSS/LyC22/M15/kcwib/LyC22-M15_icubes.whitevar.fits\n"
     ]
    }
   ],
   "source": [
    "\n",
    "reload(mmask)\n",
    "from datetime import datetime# Making white-light cutout\n",
    "root_directory = KBSSpath\n",
    "filters = [\"table['KCWI'] == 'yes'\"]\n",
    "dtype=\"KBSS\"\n",
    "#condition=[qsos_bright['Field']!=\"Q1623\",qsos_bright['Field']!=\"Q0142\"]\n",
    "all_directories,qsotab,all_data_dir = ctools.find_directories_from_ascii(source_table, root_directory,filters=filters,KBSS=(dtype==\"KBSS\"))\n",
    "#source_table = qsos_bright#[(qsos_bright['Field']!=\"Q1623\") & (qsos_bright['Field']!=\"Q0142\")]\n",
    "\n",
    "#print(\"Number of directories found:\",len(all_directories))\n",
    "#gc.set_debug(gc.DEBUG_LEAK)\n",
    "#radius=6\n",
    "dovar=True\n",
    "for ne,element in enumerate(qsotab):#source_table[qsos_bright['Field']==\"Q1623\"]:\n",
    "    #print(element)\n",
    "    field = element[\"Field\"]\n",
    "    objname=element[\"Name\"]\n",
    "    cname=element[\"CName\"]\n",
    "    subpath=all_directories[ne]\n",
    "    sub_data_path=all_data_dir[ne]\n",
    "    #CubRunpath=KBSSpath+\"/CubEx_run/\"+field\n",
    "    fn=subpath+\"/{}-{}_icubes.PSFSub.fits\".format(field,objname)\n",
    "    hdu0=fits.open(fn)\n",
    "    hdr = hdu0[0].header\n",
    "    wc = (np.arange(hdr['NAXIS3']) - hdr['CRPIX3'] + 1) * hdr['CD3_3'] + hdr['CRVAL3']\n",
    "    #NSubfile = adp_prefix+\".PSFSub.fits\"\n",
    "    #zmask = np.loadtxt(subdir+\"/zmask.txt\").astype(np.int64)\n",
    "    zmask = mmask.determine_mask(wc,\"continuum\", element['zlya'])\n",
    "    xpix = element[\"x\"]\n",
    "    ypix = element[\"y\"]\n",
    "    wimage = np.nansum(hdu0[0].data[zmask[0]:zmask[1],:],axis=0)\n",
    "    wimage[wimage==0] = np.nan\n",
    "    header = fits.Header()\n",
    "    header['DATE'] = datetime.now().strftime('%Y-%m-%dT%H:%M:%S')\n",
    "    header['CREATOR'] = 'Yuanze Ding'\n",
    "    header['COMMENT'] = 'White-light cutout from 3D data cube'\n",
    "    header['YSOURCE'] = ypix\n",
    "    header['XSOURCE'] = xpix\n",
    "    header['OBJECT'] = objname\n",
    "    # Extract WCS information from the original header\n",
    "    wcs_keys = ['CTYPE1', 'CTYPE2', 'CRVAL1', 'CRVAL2', 'CRPIX1', 'CRPIX2', 'CDELT1', 'CDELT2', 'CUNIT1', 'CUNIT2', 'CD1_1', 'CD1_2', 'CD2_1', 'CD2_2']\n",
    "    for key in wcs_keys:\n",
    "        if key in hdr:\n",
    "            header[key] = hdr[key]\n",
    "\n",
    "    hdu = fits.PrimaryHDU(wimage,header=header)\n",
    "    output_fn = subpath+\"/{}-{}_icubes.PSFSub.white.fits\".format(field,objname)\n",
    "    hdulist = fits.HDUList([hdu])\n",
    "    print(\"writing:\",output_fn)\n",
    "    hdulist.writeto(output_fn, overwrite=True)\n",
    "    if dovar:\n",
    "        fnvar=sub_data_path+\"/{}-{}_vcubes.fits\".format(field,cname)\n",
    "        hdu0_var=fits.open(fnvar)\n",
    "        wvar = np.nansum(hdu0_var[0].data[zmask[0]:zmask[1],:],axis=0)\n",
    "        wvar[wvar==0] = np.nan\n",
    "        output_fnvar = subpath+\"/{}-{}_icubes.whitevar.fits\".format(field,objname)\n",
    "        hduvar = fits.PrimaryHDU(wvar,header=header)\n",
    "        hdulist = fits.HDUList([hduvar])\n",
    "        hdulist.writeto(output_fnvar, overwrite=True)\n",
    "        print(\"writing:\",output_fnvar)\n",
    "            #hdu2=fits.open(KBSSpath+\"/MUSEQSO/Q-0347-383/ADP.2016-06-02T13:21:57.103.fits\")"
   ]
  },
  {
   "cell_type": "code",
   "execution_count": 27,
   "id": "1e9d2d2f-d0dd-4273-973d-ce9f61b6d8cb",
   "metadata": {},
   "outputs": [
    {
     "data": {
      "text/plain": [
       "array([3773.5, 3774. , 3774.5, ..., 4868. , 4868.5, 4869. ])"
      ]
     },
     "execution_count": 27,
     "metadata": {},
     "output_type": "execute_result"
    }
   ],
   "source": [
    "wc"
   ]
  },
  {
   "cell_type": "code",
   "execution_count": 36,
   "id": "73d871f5-4be0-4f3d-8a1c-64bd90775b81",
   "metadata": {},
   "outputs": [
    {
     "name": "stdout",
     "output_type": "stream",
     "text": [
      "Number of directories found: 16\n",
      "15.78142 13.28404\n",
      "60.80073972954136 40.31546017677452\n",
      "sky level from vcube: 0.027342526398253582 ; from sigma clipping: 0.029123653 ; bkg level: -0.0011673006\n"
     ]
    },
    {
     "name": "stderr",
     "output_type": "stream",
     "text": [
      "WARNING: Input data contains invalid values (NaNs or infs), which were automatically clipped. [astropy.stats.sigma_clipping]\n",
      "WARNING: Input data contains invalid values (NaNs or infs), which were automatically clipped. [astropy.stats.sigma_clipping]\n",
      "WARNING: Input data contains invalid values (NaNs or infs), which were automatically clipped. [astropy.stats.sigma_clipping]\n",
      "WARNING: Input data contains invalid values (NaNs or infs), which were automatically clipped. [astropy.stats.sigma_clipping]\n",
      "WARNING: Input data contains invalid values (NaNs or infs), which were automatically clipped. [astropy.stats.sigma_clipping]\n",
      "WARNING: Input data contains invalid values (NaNs or infs), which were automatically clipped. [astropy.stats.sigma_clipping]\n",
      "WARNING: Input data contains invalid values (NaNs or infs), which were automatically clipped. [astropy.stats.sigma_clipping]\n",
      "WARNING: Input data contains invalid values (NaNs or infs), which were automatically clipped. [astropy.stats.sigma_clipping]\n"
     ]
    },
    {
     "name": "stdout",
     "output_type": "stream",
     "text": [
      "15.78195 13.27525\n",
      "71.8315234556299 34.32593842984912\n",
      "sky level from vcube: 0.02552316218263412 ; from sigma clipping: 0.027587565 ; bkg level: -0.0018367036\n"
     ]
    },
    {
     "name": "stderr",
     "output_type": "stream",
     "text": [
      "WARNING: Input data contains invalid values (NaNs or infs), which were automatically clipped. [astropy.stats.sigma_clipping]\n",
      "WARNING: Input data contains invalid values (NaNs or infs), which were automatically clipped. [astropy.stats.sigma_clipping]\n",
      "WARNING: Input data contains invalid values (NaNs or infs), which were automatically clipped. [astropy.stats.sigma_clipping]\n",
      "WARNING: Input data contains invalid values (NaNs or infs), which were automatically clipped. [astropy.stats.sigma_clipping]\n"
     ]
    },
    {
     "name": "stdout",
     "output_type": "stream",
     "text": [
      "17.00674 16.5668\n",
      "48.52490529011965 49.28110528403071\n",
      "sky level from vcube: 0.028803707480054213 ; from sigma clipping: 0.028375285 ; bkg level: 0.006012119\n"
     ]
    },
    {
     "name": "stderr",
     "output_type": "stream",
     "text": [
      "WARNING: Input data contains invalid values (NaNs or infs), which were automatically clipped. [astropy.stats.sigma_clipping]\n",
      "WARNING: Input data contains invalid values (NaNs or infs), which were automatically clipped. [astropy.stats.sigma_clipping]\n",
      "WARNING: Input data contains invalid values (NaNs or infs), which were automatically clipped. [astropy.stats.sigma_clipping]\n",
      "WARNING: Input data contains invalid values (NaNs or infs), which were automatically clipped. [astropy.stats.sigma_clipping]\n"
     ]
    },
    {
     "name": "stdout",
     "output_type": "stream",
     "text": [
      "32.43984 -0.13071\n",
      "47.7884641358883 51.8275733186613\n",
      "sky level from vcube: 0.02922133262294619 ; from sigma clipping: 0.023713559 ; bkg level: 0.006170804\n"
     ]
    },
    {
     "name": "stderr",
     "output_type": "stream",
     "text": [
      "WARNING: Input data contains invalid values (NaNs or infs), which were automatically clipped. [astropy.stats.sigma_clipping]\n",
      "WARNING: Input data contains invalid values (NaNs or infs), which were automatically clipped. [astropy.stats.sigma_clipping]\n",
      "WARNING: Input data contains invalid values (NaNs or infs), which were automatically clipped. [astropy.stats.sigma_clipping]\n",
      "WARNING: Input data contains invalid values (NaNs or infs), which were automatically clipped. [astropy.stats.sigma_clipping]\n"
     ]
    },
    {
     "name": "stdout",
     "output_type": "stream",
     "text": [
      "44.741536 0.212853\n",
      "47.43647333998302 49.916906695467176\n",
      "sky level from vcube: 0.029564812522407415 ; from sigma clipping: 0.022549078 ; bkg level: 0.006328516\n"
     ]
    },
    {
     "name": "stderr",
     "output_type": "stream",
     "text": [
      "WARNING: Input data contains invalid values (NaNs or infs), which were automatically clipped. [astropy.stats.sigma_clipping]\n",
      "WARNING: Input data contains invalid values (NaNs or infs), which were automatically clipped. [astropy.stats.sigma_clipping]\n",
      "WARNING: Input data contains invalid values (NaNs or infs), which were automatically clipped. [astropy.stats.sigma_clipping]\n",
      "WARNING: Input data contains invalid values (NaNs or infs), which were automatically clipped. [astropy.stats.sigma_clipping]\n"
     ]
    },
    {
     "name": "stdout",
     "output_type": "stream",
     "text": [
      "125.22895 31.09895\n",
      "31.348734792762084 54.87080053122517\n",
      "sky level from vcube: 0.028733075309988323 ; from sigma clipping: 0.03164564 ; bkg level: -0.0026934077\n"
     ]
    },
    {
     "name": "stderr",
     "output_type": "stream",
     "text": [
      "WARNING: Input data contains invalid values (NaNs or infs), which were automatically clipped. [astropy.stats.sigma_clipping]\n",
      "WARNING: Input data contains invalid values (NaNs or infs), which were automatically clipped. [astropy.stats.sigma_clipping]\n",
      "WARNING: Input data contains invalid values (NaNs or infs), which were automatically clipped. [astropy.stats.sigma_clipping]\n",
      "WARNING: Input data contains invalid values (NaNs or infs), which were automatically clipped. [astropy.stats.sigma_clipping]\n"
     ]
    },
    {
     "name": "stdout",
     "output_type": "stream",
     "text": [
      "237.98053 19.15891\n",
      "46.38149556296899 51.36304428574117\n",
      "sky level from vcube: 0.03306116388407125 ; from sigma clipping: 0.037840895 ; bkg level: 0.0004926206\n"
     ]
    },
    {
     "name": "stderr",
     "output_type": "stream",
     "text": [
      "WARNING: Input data contains invalid values (NaNs or infs), which were automatically clipped. [astropy.stats.sigma_clipping]\n",
      "WARNING: Input data contains invalid values (NaNs or infs), which were automatically clipped. [astropy.stats.sigma_clipping]\n",
      "WARNING: Input data contains invalid values (NaNs or infs), which were automatically clipped. [astropy.stats.sigma_clipping]\n",
      "WARNING: Input data contains invalid values (NaNs or infs), which were automatically clipped. [astropy.stats.sigma_clipping]\n"
     ]
    },
    {
     "name": "stdout",
     "output_type": "stream",
     "text": [
      "237.99199 19.20723\n",
      "46.83598450529452 57.203043801325585\n",
      "sky level from vcube: 0.034746392948559274 ; from sigma clipping: 0.04064443 ; bkg level: 0.04879614\n"
     ]
    },
    {
     "name": "stderr",
     "output_type": "stream",
     "text": [
      "WARNING: Input data contains invalid values (NaNs or infs), which were automatically clipped. [astropy.stats.sigma_clipping]\n",
      "WARNING: Input data contains invalid values (NaNs or infs), which were automatically clipped. [astropy.stats.sigma_clipping]\n",
      "WARNING: Input data contains invalid values (NaNs or infs), which were automatically clipped. [astropy.stats.sigma_clipping]\n",
      "WARNING: Input data contains invalid values (NaNs or infs), which were automatically clipped. [astropy.stats.sigma_clipping]\n"
     ]
    },
    {
     "name": "stdout",
     "output_type": "stream",
     "text": [
      "237.96474 19.18521\n",
      "40.71001333022683 88.7569443761854\n",
      "sky level from vcube: 0.08931570408922995 ; from sigma clipping: 0.08251604 ; bkg level: 0.009760841\n"
     ]
    },
    {
     "name": "stderr",
     "output_type": "stream",
     "text": [
      "WARNING: Input data contains invalid values (NaNs or infs), which were automatically clipped. [astropy.stats.sigma_clipping]\n",
      "WARNING: Input data contains invalid values (NaNs or infs), which were automatically clipped. [astropy.stats.sigma_clipping]\n",
      "WARNING: Input data contains invalid values (NaNs or infs), which were automatically clipped. [astropy.stats.sigma_clipping]\n",
      "WARNING: Input data contains invalid values (NaNs or infs), which were automatically clipped. [astropy.stats.sigma_clipping]\n"
     ]
    },
    {
     "name": "stdout",
     "output_type": "stream",
     "text": [
      "237.97402 19.18614\n",
      "41.06591829884528 100.84646562017068\n",
      "sky level from vcube: 0.10096074829101835 ; from sigma clipping: 0.08090086 ; bkg level: 0.012035726\n"
     ]
    },
    {
     "name": "stderr",
     "output_type": "stream",
     "text": [
      "WARNING: Input data contains invalid values (NaNs or infs), which were automatically clipped. [astropy.stats.sigma_clipping]\n",
      "WARNING: Input data contains invalid values (NaNs or infs), which were automatically clipped. [astropy.stats.sigma_clipping]\n"
     ]
    },
    {
     "name": "stdout",
     "output_type": "stream",
     "text": [
      "339.0892429 13.9588136\n",
      "47.51020394828296 48.444108455876915\n"
     ]
    },
    {
     "name": "stderr",
     "output_type": "stream",
     "text": [
      "WARNING: Input data contains invalid values (NaNs or infs), which were automatically clipped. [astropy.stats.sigma_clipping]\n",
      "WARNING: Input data contains invalid values (NaNs or infs), which were automatically clipped. [astropy.stats.sigma_clipping]\n"
     ]
    },
    {
     "name": "stdout",
     "output_type": "stream",
     "text": [
      "sky level from vcube: 0.028273641443385972 ; from sigma clipping: 0.025985615 ; bkg level: 0.008787867\n"
     ]
    },
    {
     "name": "stderr",
     "output_type": "stream",
     "text": [
      "WARNING: Input data contains invalid values (NaNs or infs), which were automatically clipped. [astropy.stats.sigma_clipping]\n",
      "WARNING: Input data contains invalid values (NaNs or infs), which were automatically clipped. [astropy.stats.sigma_clipping]\n",
      "WARNING: Input data contains invalid values (NaNs or infs), which were automatically clipped. [astropy.stats.sigma_clipping]\n",
      "WARNING: Input data contains invalid values (NaNs or infs), which were automatically clipped. [astropy.stats.sigma_clipping]\n"
     ]
    },
    {
     "name": "stdout",
     "output_type": "stream",
     "text": [
      "356.60088 12.80236\n",
      "38.58340649798217 43.33426366636124\n",
      "sky level from vcube: 0.028758970712109793 ; from sigma clipping: 0.026838116 ; bkg level: 0.008091365\n"
     ]
    },
    {
     "name": "stderr",
     "output_type": "stream",
     "text": [
      "WARNING: Input data contains invalid values (NaNs or infs), which were automatically clipped. [astropy.stats.sigma_clipping]\n",
      "WARNING: Input data contains invalid values (NaNs or infs), which were automatically clipped. [astropy.stats.sigma_clipping]\n",
      "WARNING: Input data contains invalid values (NaNs or infs), which were automatically clipped. [astropy.stats.sigma_clipping]\n",
      "WARNING: Input data contains invalid values (NaNs or infs), which were automatically clipped. [astropy.stats.sigma_clipping]\n"
     ]
    },
    {
     "name": "stdout",
     "output_type": "stream",
     "text": [
      "356.50886 12.80739\n",
      "55.39470920103242 56.69424412078324\n",
      "sky level from vcube: 0.03518469145224817 ; from sigma clipping: 0.02776543 ; bkg level: 0.009925803\n"
     ]
    },
    {
     "name": "stderr",
     "output_type": "stream",
     "text": [
      "WARNING: Input data contains invalid values (NaNs or infs), which were automatically clipped. [astropy.stats.sigma_clipping]\n",
      "WARNING: Input data contains invalid values (NaNs or infs), which were automatically clipped. [astropy.stats.sigma_clipping]\n",
      "WARNING: Input data contains invalid values (NaNs or infs), which were automatically clipped. [astropy.stats.sigma_clipping]\n",
      "WARNING: Input data contains invalid values (NaNs or infs), which were automatically clipped. [astropy.stats.sigma_clipping]\n"
     ]
    },
    {
     "name": "stdout",
     "output_type": "stream",
     "text": [
      "339.875266 11.789784\n",
      "47.71215509841256 50.088908059579616\n",
      "sky level from vcube: 0.027985096839131862 ; from sigma clipping: 0.022089984 ; bkg level: 0.0076515395\n"
     ]
    },
    {
     "name": "stderr",
     "output_type": "stream",
     "text": [
      "WARNING: Input data contains invalid values (NaNs or infs), which were automatically clipped. [astropy.stats.sigma_clipping]\n",
      "WARNING: Input data contains invalid values (NaNs or infs), which were automatically clipped. [astropy.stats.sigma_clipping]\n",
      "WARNING: Input data contains invalid values (NaNs or infs), which were automatically clipped. [astropy.stats.sigma_clipping]\n",
      "WARNING: Input data contains invalid values (NaNs or infs), which were automatically clipped. [astropy.stats.sigma_clipping]\n"
     ]
    },
    {
     "name": "stdout",
     "output_type": "stream",
     "text": [
      "334.290161 0.300204\n",
      "47.93647998817048 46.7955733632926\n",
      "sky level from vcube: 0.03189696284015394 ; from sigma clipping: 0.024298657 ; bkg level: 0.0075872038\n"
     ]
    },
    {
     "name": "stderr",
     "output_type": "stream",
     "text": [
      "WARNING: Input data contains invalid values (NaNs or infs), which were automatically clipped. [astropy.stats.sigma_clipping]\n",
      "WARNING: Input data contains invalid values (NaNs or infs), which were automatically clipped. [astropy.stats.sigma_clipping]\n",
      "WARNING: Input data contains invalid values (NaNs or infs), which were automatically clipped. [astropy.stats.sigma_clipping]\n",
      "WARNING: Input data contains invalid values (NaNs or infs), which were automatically clipped. [astropy.stats.sigma_clipping]\n"
     ]
    },
    {
     "name": "stdout",
     "output_type": "stream",
     "text": [
      "334.22233091 0.3450005\n",
      "50.39752185768673 46.02024000506505\n",
      "sky level from vcube: 0.04343800433871178 ; from sigma clipping: 0.05688532 ; bkg level: 0.07170146\n"
     ]
    }
   ],
   "source": [
    "import warnings\n",
    "from regions import Regions\n",
    "reload(ctools)\n",
    "root_directory = KBSSpath\n",
    "filters = [\"table['KCWI'] == 'yes'\"]\n",
    "dtype=\"KBSS\"\n",
    "#condition=[qsos_bright['Field']!=\"Q1623\",qsos_bright['Field']!=\"Q0142\"]\n",
    "all_directories,qsotab,all_data_dir = ctools.find_directories_from_ascii(source_table, root_directory,filters=filters,KBSS=(dtype==\"KBSS\"))\n",
    "print(\"Number of directories found:\",len(all_directories))\n",
    "#gc.set_debug(gc.DEBUG_LEAK)\n",
    "#radius=6\n",
    "cutr=20\n",
    "mark_region=False\n",
    "for ne,element in enumerate(qsotab):\n",
    "    #qname = element[\"Name\"]\n",
    "    field = element[\"Field\"]\n",
    "    #print(qname)\n",
    "    \n",
    "    objname=element[\"Name\"]\n",
    "    cname=element[\"CName\"]\n",
    "    subpath=all_directories[ne]\n",
    "    CubRunpath=subpath\n",
    "    ra = element['RA']\n",
    "    dec = element['Decl']\n",
    "    sc= SkyCoord(ra,dec,unit=(u.deg,u.deg))\n",
    "   # qname=\"LBQS 2139-4434\"\n",
    "    fname=subpath+\"/{}-{}_icubes.PSFSub.white.fits\".format(field,objname)\n",
    "    fnamevar=subpath+\"/{}-{}_icubes.whitevar.fits\".format(field,objname)\n",
    "    hduvar=fits.open(fnamevar)\n",
    "    var=hduvar[0].data\n",
    "    #var[var==0]=np.nan\n",
    "    mean_sky_var, _, _ = sigma_clipped_stats(var, sigma=2.0, maxiters=None)\n",
    "    img = IM.image(fname,hdu=0,unit=u.Jy)\n",
    "    xpix = element[\"x\"]\n",
    "    ypix = element[\"y\"]\n",
    "    wcs=WCS(img.data.header)\n",
    "    \n",
    "    artists=None\n",
    "    metas=None\n",
    "    if mark_region:\n",
    "        artists=[]\n",
    "        metas=[]\n",
    "        if os.path.exists(KBSSpath+f\"/AbsHosts_nLOS_reg/{field}_AbsHost-nLOS.reg\"):\n",
    "            reg= ctools.read_regions(KBSSpath+f\"/AbsHosts_nLOS_reg/{field}_AbsHost-nLOS.reg\",pix_scale=wcs.pixel_scale_matrix[1,1]*3600)\n",
    "            for r in reg:\n",
    "                artists.append(r.to_pixel(wcs).as_artist())\n",
    "                meta=dict(r.meta)\n",
    "                meta[\"fontsize\"]=5\n",
    "                metas.append(meta)\n",
    "    center = [ypix,xpix]\n",
    "    imcut, cp = img.img_cut(sc.ra.value,sc.dec.value,cutr)\n",
    "    sky_mean, sky_median, sky_std = sigma_clipped_stats(imcut, sigma=3.0, maxiters=None)\n",
    "    print(\"sky level from vcube:\",np.sqrt(mean_sky_var),\"; from sigma clipping:\",sky_std,\"; bkg level:\",sky_mean)\n",
    "    img.sources_skycord_cut = [xpix,ypix]\n",
    "    #img.cut_mask_image = np.zeros_like(img.cut_sigma_image)\n",
    "    sdmask = ctools.create_circular_mask(img.data.shape, center, 7)\n",
    "    try:\n",
    "        with warnings.catch_warnings(record=True) as w:\n",
    "            warnings.simplefilter(\"always\")\n",
    "            img.cut_mask_image = img.generate_cutmask(4,nsigma=2,sky_level=np.sqrt(mean_sky_var),sdmask=sdmask,data = img.data.data,deblend=False,addgrow=1,nlevels=32,source_dia=5,contrast=0.001)\n",
    "    except:\n",
    "        for warning in w:\n",
    "            print(f\"Warning: {warning.message}\")\n",
    "        continue\n",
    "    ctools.maskplot(img.data.data,img.cut_mask_image,meta=metas,artist=artists,output=root_directory+\"/diagnostic/\"+field+\"-\"+objname+\"_maskmap.pdf\",center=center)\n",
    "    outname = subpath+\"/{}-{}_icubes.PSFSub.mask.fits\".format(field,objname)\n",
    "    ctools.write_fits_cube(img.cut_mask_image.astype(np.int32),img.data.header,outname)\n",
    "    #NSubfile = adp_prefix+\".PSFSub.fits\"\n",
    "    #zmask = np.loadtxt(subdir+\"/zmask.txt\",dtype=int)"
   ]
  },
  {
   "cell_type": "code",
   "execution_count": 88,
   "id": "a0f4e5fb-4293-48be-8596-23fc5d66b52f",
   "metadata": {},
   "outputs": [
    {
     "data": {
      "text/plain": [
       "{'label': 'Q0100  2.721'}"
      ]
     },
     "execution_count": 88,
     "metadata": {},
     "output_type": "execute_result"
    }
   ],
   "source": []
  },
  {
   "cell_type": "code",
   "execution_count": 81,
   "id": "03e50ddd-8e66-4b88-885f-b90943f79432",
   "metadata": {},
   "outputs": [
    {
     "data": {
      "text/plain": [
       "(50.04648997238098, 49.072736870607734)"
      ]
     },
     "execution_count": 81,
     "metadata": {},
     "output_type": "execute_result"
    }
   ],
   "source": [
    "artists[0].center"
   ]
  },
  {
   "cell_type": "code",
   "execution_count": 67,
   "id": "411b8beb-70fb-476b-b741-b3338f2c89bc",
   "metadata": {},
   "outputs": [
    {
     "data": {
      "text/plain": [
       "{'label': 'Q0100  2.721'}"
      ]
     },
     "execution_count": 67,
     "metadata": {},
     "output_type": "execute_result"
    }
   ],
   "source": [
    "reg[0].meta"
   ]
  },
  {
   "cell_type": "code",
   "execution_count": 53,
   "id": "6d23489e-4d28-4f3d-a0b1-591f8b473be0",
   "metadata": {},
   "outputs": [
    {
     "name": "stdout",
     "output_type": "stream",
     "text": [
      "Region: CircleSkyRegion\n",
      "center: <SkyCoord (FK5: equinox=J2000.000): (ra, dec) in deg\n",
      "    (15.79699292, 13.27175306)>\n",
      "radius: 3.0 arcsec\n",
      "Region: CircleSkyRegion\n",
      "center: <SkyCoord (FK5: equinox=J2000.000): (ra, dec) in deg\n",
      "    (15.80051, 13.2711325)>\n",
      "radius: 5.0 arcsec\n",
      "Region: CircleSkyRegion\n",
      "center: <SkyCoord (FK5: equinox=J2000.000): (ra, dec) in deg\n",
      "    (15.80004083, 13.271705)>\n",
      "radius: 5.0 arcsec\n",
      "Region: CircleSkyRegion\n",
      "center: <SkyCoord (FK5: equinox=J2000.000): (ra, dec) in deg\n",
      "    (15.80209958, 13.27299472)>\n",
      "radius: 5.0 arcsec\n",
      "Region: CircleSkyRegion\n",
      "center: <SkyCoord (FK5: equinox=J2000.000): (ra, dec) in deg\n",
      "    (15.79884458, 13.27309694)>\n",
      "radius: 5.0 arcsec\n",
      "Region: CircleSkyRegion\n",
      "center: <SkyCoord (FK5: equinox=J2000.000): (ra, dec) in deg\n",
      "    (15.79855333, 13.27198778)>\n",
      "radius: 5.0 arcsec\n",
      "Region: CircleSkyRegion\n",
      "center: <SkyCoord (FK5: equinox=J2000.000): (ra, dec) in deg\n",
      "    (15.79724583, 13.27124722)>\n",
      "radius: 5.0 arcsec\n",
      "Region: CircleSkyRegion\n",
      "center: <SkyCoord (FK5: equinox=J2000.000): (ra, dec) in deg\n",
      "    (15.79917083, 13.27301667)>\n",
      "radius: 5.0 arcsec\n",
      "Region: CircleSkyRegion\n",
      "center: <SkyCoord (FK5: equinox=J2000.000): (ra, dec) in deg\n",
      "    (15.8017375, 13.2701)>\n",
      "radius: 5.0 arcsec\n",
      "Region: CircleSkyRegion\n",
      "center: <SkyCoord (FK5: equinox=J2000.000): (ra, dec) in deg\n",
      "    (15.79585208, 13.27302444)>\n",
      "radius: 5.0 arcsec\n",
      "Region: CircleSkyRegion\n",
      "center: <SkyCoord (FK5: equinox=J2000.000): (ra, dec) in deg\n",
      "    (15.79515667, 13.26979111)>\n",
      "radius: 5.0 arcsec\n",
      "Region: CircleSkyRegion\n",
      "center: <SkyCoord (FK5: equinox=J2000.000): (ra, dec) in deg\n",
      "    (15.79577292, 13.27126528)>\n",
      "radius: 5.0 arcsec\n",
      "Region: CircleSkyRegion\n",
      "center: <SkyCoord (FK5: equinox=J2000.000): (ra, dec) in deg\n",
      "    (15.79405833, 13.27201889)>\n",
      "radius: 5.0 arcsec\n",
      "Region: CircleSkyRegion\n",
      "center: <SkyCoord (FK5: equinox=J2000.000): (ra, dec) in deg\n",
      "    (15.7942975, 13.27261972)>\n",
      "radius: 5.0 arcsec\n",
      "Region: CircleSkyRegion\n",
      "center: <SkyCoord (FK5: equinox=J2000.000): (ra, dec) in deg\n",
      "    (15.79806375, 13.27083861)>\n",
      "radius: 5.0 arcsec\n",
      "Region: CircleSkyRegion\n",
      "center: <SkyCoord (FK5: equinox=J2000.000): (ra, dec) in deg\n",
      "    (15.79690167, 13.27251694)>\n",
      "radius: 5.0 arcsec\n"
     ]
    }
   ],
   "source": [
    "import re\n",
    "from astropy.coordinates import SkyCoord\n",
    "from regions import CircleSkyRegion, PixCoord\n",
    "from astropy import units as u\n",
    "\n",
    "# Read the region file\n",
    "file_path = KBSSpath+f\"/AbsHosts_nLOS_reg/{field}_AbsHost-nLOS.reg\"\n",
    "with open(file_path, 'r') as file:\n",
    "    lines = file.readlines()\n",
    "\n",
    "# Regex to extract information\n",
    "pattern = re.compile(r'fk5;circle\\((.*?),(.*?),(.*?)i\\) #color=(.*?)  width=2 text={(.*?)}')\n",
    "\n",
    "regions = []\n",
    "\n",
    "for line in lines:\n",
    "    match = pattern.match(line)\n",
    "    if match:\n",
    "        ra, dec, radius, color, text = match.groups()\n",
    "        coord = SkyCoord(ra, dec, unit=(u.hourangle, u.deg), frame='fk5')\n",
    "        radius = float(radius) * u.arcsec  # assuming the radius is in arcseconds\n",
    "        \n",
    "        # Create a CircleSkyRegion\n",
    "        region = CircleSkyRegion(center=coord, radius=radius)\n",
    "        regions.append(region)\n",
    "\n",
    "# Now `regions` contains all the parsed CircleSkyRegions\n",
    "# You can manipulate them or plot them using regions library\n",
    "\n",
    "# Example: Printing region details\n",
    "for region in regions:\n",
    "    print(region)"
   ]
  }
 ],
 "metadata": {
  "kernelspec": {
   "display_name": "Python (nmma)",
   "language": "python",
   "name": "nmma"
  },
  "language_info": {
   "codemirror_mode": {
    "name": "ipython",
    "version": 3
   },
   "file_extension": ".py",
   "mimetype": "text/x-python",
   "name": "python",
   "nbconvert_exporter": "python",
   "pygments_lexer": "ipython3",
   "version": "3.8.17"
  }
 },
 "nbformat": 4,
 "nbformat_minor": 5
}
